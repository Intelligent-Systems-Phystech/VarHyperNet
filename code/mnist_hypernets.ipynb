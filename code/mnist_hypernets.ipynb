{
 "cells": [
  {
   "cell_type": "code",
   "execution_count": 1,
   "metadata": {},
   "outputs": [],
   "source": [
    "import torch as t \n",
    "import torchvision\n",
    "import numpy as np\n",
    "import torch.nn as nn\n",
    "import torch.nn.functional as F\n",
    "import torch.optim as optim\n",
    "import matplotlib.pylab as plt\n",
    "from torch.nn.utils import clip_grad_value_\n",
    "%matplotlib inline\n",
    "import pickle\n",
    "from torchvision import datasets, transforms\n",
    "import tqdm\n",
    "import os"
   ]
  },
  {
   "cell_type": "code",
   "execution_count": 2,
   "metadata": {},
   "outputs": [
    {
     "data": {
      "text/plain": [
       "<module 'src.utils' from '/home/legin/reps/VarHyperNet/code/src/utils.py'>"
      ]
     },
     "execution_count": 2,
     "metadata": {},
     "output_type": "execute_result"
    }
   ],
   "source": [
    "import importlib \n",
    "import src.var_net as var_net\n",
    "import src.linear_var_hypernet as linear_var_hypernet\n",
    "import src.lowrank_var_hypernet as lowrank_var_hypernet\n",
    "import src.utils as utils\n",
    "importlib.reload(var_net)\n",
    "importlib.reload(linear_var_hypernet)\n",
    "importlib.reload(lowrank_var_hypernet)\n",
    "importlib.reload(utils)\n",
    "\n"
   ]
  },
  {
   "cell_type": "code",
   "execution_count": 3,
   "metadata": {},
   "outputs": [],
   "source": [
    "device = 'cpu:0' # cuda or cpu\n",
    "device = t.device(device)\n",
    "if device == 'cuda':\n",
    "    t.backends.cudnn.deterministic = True\n",
    "    t.backends.cudnn.benchmark = False"
   ]
  },
  {
   "cell_type": "code",
   "execution_count": 4,
   "metadata": {},
   "outputs": [],
   "source": [
    "batch_size = 64\n",
    "init_log_sigma = -3.0 # логарифм дисперсии вариационного распределения при инициализации\n",
    "prior_sigma = 0.1 # априорная дисперсия\n",
    "epoch_num = 5 #количество эпох\n",
    "lamb = [0.1, 1,  10, 100]\n",
    "hidden_num = 50 # количество нейронов на скрытом слое\n",
    "acc_delete = [] \n",
    "start_num = 1\n",
    "\n",
    "\n",
    "lowrank_hidden_num = 50 # количество нейронов на скрытом слое в low-rank слое\n",
    "lambda_sample_num = 5\n",
    "path_to_save = 'saved_mnist'\n",
    "\n",
    "if not os.path.exists(path_to_save):\n",
    "    os.mkdir(path_to_save)"
   ]
  },
  {
   "cell_type": "code",
   "execution_count": null,
   "metadata": {},
   "outputs": [],
   "source": [
    "# загрузка данных\n",
    "train_data = torchvision.datasets.MNIST('./files/', train=True, download=True,\n",
    "                             transform = transforms.Compose([transforms.ToTensor(),\n",
    "                              transforms.Normalize((0.5,), (0.5,)),\n",
    "                                  torchvision.transforms.Lambda(lambda x: x.view(-1))\n",
    "                              ]))\n",
    "\n",
    "test_data = torchvision.datasets.MNIST('./files/', train=False, download=True,\n",
    "                             transform = transforms.Compose([transforms.ToTensor(),\n",
    "                              transforms.Normalize((0.5,), (0.5,)),\n",
    "                                  torchvision.transforms.Lambda(lambda x: x.view(-1))\n",
    "                              ]))\n",
    "\n",
    "\n",
    "train_loader = t.utils.data.DataLoader(train_data, batch_size=batch_size, pin_memory=True )\n",
    "test_loader = t.utils.data.DataLoader(test_data, batch_size=batch_size)\n",
    "\n",
    "def test_acc(net): # точность классификации\n",
    "    acc = []    \n",
    "    correct = 0\n",
    "    net.eval()\n",
    "    for x,y in test_loader: \n",
    "        x = x.to(device)\n",
    "        y = y.to(device)  \n",
    "        out = net(x)    \n",
    "        correct += out.argmax(1).eq(y).sum().cpu().numpy()\n",
    "    acc = (correct / len(test_data))\n",
    "\n",
    "    return acc\n",
    "\n",
    "\n"
   ]
  },
  {
   "cell_type": "code",
   "execution_count": null,
   "metadata": {},
   "outputs": [],
   "source": [
    "def train_batches(net, loss_fn, optimizer, lam, label):\n",
    "    tq = tqdm.tqdm(train_loader)\n",
    "    losses = []\n",
    "    for x,y in tq:            \n",
    "        x = x.to(device)\n",
    "        y = y.to(device)          \n",
    "        optimizer.zero_grad()  \n",
    "        loss = 0\n",
    "        if lam is None:\n",
    "            for _ in range(lambda_sample_num):  \n",
    "                p = t.rand(1).to(device)*3 -1\n",
    "                lam_param = 10**p[0]                \n",
    "                #t.rand(1).to(device)[0]*100.0                  \n",
    "                out = net(x, lam_param/100.0)\n",
    "                loss = loss + loss_fn(out, y)/lambda_sample_num\n",
    "                loss += net.KLD(lam_param/100.0)*lam_param/len(train_data)/lambda_sample_num\n",
    "                losses+=[loss.cpu().detach().numpy()]\n",
    "            # правдоподобие должно суммироваться по всей обучающей выборке\n",
    "            # в случае батчей - она приводится к тому же порядку \n",
    "        else:\n",
    "            out = net(x)\n",
    "            loss = loss + loss_fn(out, y)\n",
    "            loss += net.KLD()*lam/len(train_data)\n",
    "            losses+=[loss.cpu().detach().numpy()]\n",
    "        tq.set_description(label+str(np.mean(losses)))\n",
    "        loss.backward()       \n",
    "        clip_grad_value_(net.parameters(), 1.0) # для стабильности градиента. С этим можно играться\n",
    "        optimizer.step()"
   ]
  },
  {
   "cell_type": "code",
   "execution_count": null,
   "metadata": {},
   "outputs": [],
   "source": [
    "t.manual_seed(0)\n",
    "for lam in lamb:\n",
    "    for start in range(start_num):                    \n",
    "            net = var_net.VarNet(var_net.VarLayer(784,  hidden_num, \n",
    "                                            prior_sigma = prior_sigma, init_log_sigma=init_log_sigma), \n",
    "                                 var_net.VarLayer(hidden_num, 10, prior_sigma=prior_sigma,  init_log_sigma=init_log_sigma,\n",
    "                                          act=lambda x:x))\n",
    "            \n",
    "            net = net.to(device)\n",
    "            optim = t.optim.Adam(net.parameters(), lr=5e-4)\n",
    "            loss_fn = nn.CrossEntropyLoss().to(device)            \n",
    "            for e in range(epoch_num):\n",
    "                label = 'lambda {}, epoch {}: '.format(lam, e)                \n",
    "                train_batches(net, loss_fn, optim, lam, label)\n",
    "            t.save(net.state_dict(), os.path.join(path_to_save, 'var_net_lam_{}_start_{}.cpk'.format(lam, start)))"
   ]
  },
  {
   "cell_type": "code",
   "execution_count": null,
   "metadata": {},
   "outputs": [],
   "source": [
    "t.manual_seed(0)\n",
    "for start in range(start_num):         \n",
    "    net = var_net.VarNet(linear_var_hypernet.VarLayerLinearAppr(784,  hidden_num, prior_sigma=prior_sigma, init_log_sigma=init_log_sigma),\n",
    "                         linear_var_hypernet.VarLayerLinearAppr(hidden_num, 10,  prior_sigma=prior_sigma, act=lambda x:x, init_log_sigma=init_log_sigma))\n",
    "    net = net.to(device)\n",
    "    optim = t.optim.Adam(net.parameters(), lr=5e-4)\n",
    "    loss_fn = nn.CrossEntropyLoss().to(device)            \n",
    "    for e in range(epoch_num):\n",
    "        label = 'linear, epoch {}: '.format(e)                \n",
    "        train_batches(net, loss_fn, optim, None, label)\n",
    "    t.save(net.state_dict(), os.path.join(path_to_save, 'linear_start_{}.cpk'.format( start)))"
   ]
  },
  {
   "cell_type": "code",
   "execution_count": null,
   "metadata": {},
   "outputs": [],
   "source": [
    "t.manual_seed(0)\n",
    "for start in range(start_num):         \n",
    "    net = var_net.VarNet(lowrank_var_hypernet.VarLayerLowRank(784,  hidden_num, lowrank_hidden_num, init_log_sigma=init_log_sigma,  prior_sigma=prior_sigma), lowrank_var_hypernet.VarLayerLowRank(hidden_num, 10,  lowrank_hidden_num,\n",
    "    prior_sigma=prior_sigma, act=lambda x:x, init_log_sigma=init_log_sigma))\n",
    "    net = net.to(device)\n",
    "    optim = t.optim.Adam(net.parameters(), lr=5e-4)\n",
    "    loss_fn = nn.CrossEntropyLoss().to(device)            \n",
    "    for e in range(epoch_num):\n",
    "        label = 'lowrank, epoch {}: '.format(e)                \n",
    "        train_batches(net, loss_fn, optim, None, label)\n",
    "    t.save(net.state_dict(), os.path.join(path_to_save, 'lowrank_start_{}.cpk'.format( start)))"
   ]
  },
  {
   "cell_type": "code",
   "execution_count": null,
   "metadata": {},
   "outputs": [],
   "source": [
    "net = var_net.VarNet(var_net.VarLayer(784,  hidden_num, \n",
    "                                            prior_sigma = prior_sigma, init_log_sigma=init_log_sigma), \n",
    "                                 var_net.VarLayer(hidden_num, 10, prior_sigma=prior_sigma,  init_log_sigma=init_log_sigma,\n",
    "                                          act=lambda x:x))               \n",
    "lam_results = {}\n",
    "for lam in lamb:\n",
    "    lam_results[lam] = []\n",
    "    for s in range(start_num):\n",
    "        print (lam, s)\n",
    "        net.load_state_dict(t.load(os.path.join(path_to_save, 'var_net_lam_{}_start_{}.cpk'.format(lam, s))))\n",
    "        lam_results[lam].append(utils.delete_10(net, device, lambda:test_acc(net)))\n",
    "import json\n",
    "with open(os.path.join(saved, 'results_var.json'),'w') as out:\n",
    "    out.write(json.dumps(lam_results))        "
   ]
  },
  {
   "cell_type": "code",
   "execution_count": null,
   "metadata": {},
   "outputs": [],
   "source": [
    "proc = [0,10,20,30,40,50,60,70,80,90]\n",
    "plt.rcParams['figure.figsize'] = 12, 12\n",
    "plt.rcParams.update({'font.size': 27})\n",
    "plt.rc('lines', linewidth=4)\n",
    "    \n",
    "    \n",
    "for lam in lamb:\n",
    "    plt.fill_between(proc, np.min(lam_results[lam], 0), np.max(lam_results[lam], 0), alpha=0.2)\n",
    "    plt.plot(proc, np.mean(lam_results[lam], 0), label='$\\lambda={}$'.format(lam))\n",
    "plt.ylabel('Точность классификации', fontsize = 27)\n",
    "plt.xlabel('Процент удаления', fontsize = 27)\n",
    "plt.tick_params(axis='both', which='major', labelsize=27)\n",
    "plt.legend(loc='lower left')\n",
    "plt.autoscale(enable=True, axis='x', tight=True)\n",
    "#plt.savefig('Hypernet_lowrank3 + 1')\n",
    "#plt.show()\n"
   ]
  },
  {
   "cell_type": "code",
   "execution_count": null,
   "metadata": {},
   "outputs": [],
   "source": [
    "net = var_net.VarNet(var_net.VarLayer(784,  hidden_num, \n",
    "                                            prior_sigma = prior_sigma, init_log_sigma=init_log_sigma), \n",
    "                                 var_net.VarLayer(hidden_num, 10, prior_sigma=prior_sigma,  init_log_sigma=init_log_sigma,\n",
    "                                          act=lambda x:x))    \n",
    "hnet = var_net.VarNet(linear_var_hypernet.VarLayerLinearAppr(784,  hidden_num, prior_sigma=prior_sigma, init_log_sigma=init_log_sigma),\n",
    "                         linear_var_hypernet.VarLayerLinearAppr(hidden_num, 10,  prior_sigma=prior_sigma, act=lambda x:x, init_log_sigma=init_log_sigma))\n",
    "\n",
    "lam_results = {}\n",
    "for lam in lamb:\n",
    "    lam_results[lam] = []\n",
    "    for s in range(start_num):        \n",
    "        hnet.load_state_dict(t.load(os.path.join(path_to_save, 'linear_start_{}.cpk'.format(s))))\n",
    "        utils.net_copy(hnet, net, lam/100.0)\n",
    "        lam_results[lam].append(utils.delete_10(net, device, lambda:test_acc(net)))\n",
    "import json\n",
    "with open(os.path.join(saved, 'results_linear.json'),'w') as out:\n",
    "    out.write(json.dumps(lam_results))        "
   ]
  },
  {
   "cell_type": "code",
   "execution_count": null,
   "metadata": {},
   "outputs": [],
   "source": []
  },
  {
   "cell_type": "code",
   "execution_count": null,
   "metadata": {},
   "outputs": [],
   "source": [
    "proc = [0,10,20,30,40,50,60,70,80,90]\n",
    "plt.rcParams['figure.figsize'] = 12, 12\n",
    "plt.rcParams.update({'font.size': 27})\n",
    "plt.rc('lines', linewidth=4)\n",
    "    \n",
    "    \n",
    "for lam in lamb:\n",
    "    plt.fill_between(proc, np.min(lam_results[lam], 0), np.max(lam_results[lam], 0), alpha=0.2)\n",
    "    plt.plot(proc, np.mean(lam_results[lam], 0), label='$\\lambda={}$'.format(lam))\n",
    "plt.ylabel('Точность классификации', fontsize = 27)\n",
    "plt.xlabel('Процент удаления', fontsize = 27)\n",
    "plt.tick_params(axis='both', which='major', labelsize=27)\n",
    "plt.legend(loc='lower left')\n",
    "plt.autoscale(enable=True, axis='x', tight=True)\n",
    "#plt.savefig('Hypernet_lowrank3 + 1')\n",
    "#plt.show()\n"
   ]
  },
  {
   "cell_type": "code",
   "execution_count": null,
   "metadata": {},
   "outputs": [],
   "source": [
    "net = var_net.VarNet(var_net.VarLayer(784,  hidden_num, \n",
    "                                            prior_sigma = prior_sigma, init_log_sigma=init_log_sigma), \n",
    "                                 var_net.VarLayer(hidden_num, 10, prior_sigma=prior_sigma,  init_log_sigma=init_log_sigma,\n",
    "                                          act=lambda x:x))    \n",
    "hnet = var_net.VarNet(lowrank_var_hypernet.VarLayerLowRank(784,  hidden_num, lowrank_hidden_num, init_log_sigma=init_log_sigma,  prior_sigma=prior_sigma), lowrank_var_hypernet.VarLayerLowRank(hidden_num, 10,  lowrank_hidden_num,\n",
    "prior_sigma=prior_sigma, act=lambda x:x, init_log_sigma=init_log_sigma))\n",
    "\n",
    "lam_results = {}\n",
    "for lam in lamb:\n",
    "    lam_results[lam] = []\n",
    "    for s in range(start_num):        \n",
    "        hnet.load_state_dict(t.load(os.path.join(path_to_save, 'lowrank_start_{}.cpk'.format(s))))\n",
    "        utils.net_copy(hnet, net, lam/100.0)\n",
    "        lam_results[lam].append(utils.delete_10(net, device, lambda:test_acc(net)))\n",
    "import json\n",
    "with open(os.path.join(saved, 'results_lowrank.json'),'w') as out:\n",
    "    out.write(json.dumps(lam_results))        "
   ]
  },
  {
   "cell_type": "code",
   "execution_count": null,
   "metadata": {},
   "outputs": [],
   "source": [
    "proc = [0,10,20,30,40,50,60,70,80,90]\n",
    "plt.rcParams['figure.figsize'] = 12, 12\n",
    "plt.rcParams.update({'font.size': 27})\n",
    "plt.rc('lines', linewidth=4)\n",
    "    \n",
    "    \n",
    "for lam in lamb:\n",
    "    plt.fill_between(proc, np.min(lam_results[lam], 0), np.max(lam_results[lam], 0), alpha=0.2)\n",
    "    plt.plot(proc, np.mean(lam_results[lam], 0), label='$\\lambda={}$'.format(lam))\n",
    "plt.ylabel('Точность классификации', fontsize = 27)\n",
    "plt.xlabel('Процент удаления', fontsize = 27)\n",
    "plt.tick_params(axis='both', which='major', labelsize=27)\n",
    "plt.legend(loc='lower left')\n",
    "plt.autoscale(enable=True, axis='x', tight=True)\n",
    "#plt.savefig('Hypernet_lowrank3 + 1')\n",
    "#plt.show()\n"
   ]
  },
  {
   "cell_type": "code",
   "execution_count": null,
   "metadata": {},
   "outputs": [],
   "source": [
    "for mode in ['results_var','results_lowrank', 'results_linear']:    \n",
    "    with open(os.path.join(saved, mode+'.json')) as inp:\n",
    "        lam_results = json.loads(inp.read())\n",
    "    proc = [0,10,20,30,40,50,60,70,80,90]\n",
    "    plt.rcParams['figure.figsize'] = 8, 8\n",
    "    plt.rcParams.update({'font.size': 12})\n",
    "    plt.rc('lines', linewidth=4)\n",
    "    plt.title(mode)\n",
    "\n",
    "    for lam in lamb:\n",
    "        lam = str(lam)\n",
    "        plt.fill_between(proc, np.min(lam_results[lam], 0), np.max(lam_results[lam], 0), alpha=0.2)\n",
    "        plt.plot(proc, np.mean(lam_results[lam], 0), label='$\\lambda={}$'.format(lam))\n",
    "    plt.ylabel('Точность классификации', fontsize = 12)\n",
    "    plt.xlabel('Процент удаления', fontsize = 12)\n",
    "    plt.tick_params(axis='both', which='major', labelsize=12)\n",
    "    plt.legend(loc='lower left')\n",
    "    plt.autoscale(enable=True, axis='x', tight=True)    \n",
    "    plt.show()\n"
   ]
  }
 ],
 "metadata": {
  "kernelspec": {
   "display_name": "Python 3.8.5 64-bit",
   "language": "python",
   "name": "python38564bit27c804ee6bca43ae8f05b1b2357dc288"
  },
  "language_info": {
   "codemirror_mode": {
    "name": "ipython",
    "version": 3
   },
   "file_extension": ".py",
   "mimetype": "text/x-python",
   "name": "python",
   "nbconvert_exporter": "python",
   "pygments_lexer": "ipython3",
   "version": "3.8.5"
  }
 },
 "nbformat": 4,
 "nbformat_minor": 4
}
