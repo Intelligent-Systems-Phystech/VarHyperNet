{
 "cells": [
  {
   "cell_type": "code",
   "execution_count": 1,
   "metadata": {},
   "outputs": [],
   "source": [
    "import torch as t \n",
    "import torchvision\n",
    "import numpy as np\n",
    "import torch.nn as nn\n",
    "import torch.nn.functional as F\n",
    "import torch.optim as optim\n",
    "import matplotlib.pylab as plt\n",
    "from torch.nn.utils import clip_grad_value_\n",
    "%matplotlib inline\n",
    "import pickle\n",
    "from torchvision import datasets, transforms\n",
    "import tqdm\n",
    "import os\n",
    "import sys\n",
    "sys.path.append('../src/')"
   ]
  },
  {
   "cell_type": "code",
   "execution_count": 25,
   "metadata": {},
   "outputs": [
    {
     "data": {
      "text/plain": [
       "<module 'linear_var_hypernet' from '../src/linear_var_hypernet.py'>"
      ]
     },
     "execution_count": 25,
     "metadata": {},
     "output_type": "execute_result"
    }
   ],
   "source": [
    "import importlib \n",
    "import linear_var_hypernet as linear_var_hypernet\n",
    "import var_net as var_net\n",
    "import mnist_utils as utils\n",
    "importlib.reload(utils)\n",
    "importlib.reload(var_net)\n",
    "importlib.reload(linear_var_hypernet)\n",
    "\n"
   ]
  },
  {
   "cell_type": "code",
   "execution_count": 8,
   "metadata": {},
   "outputs": [],
   "source": [
    "device = 'cuda' # cuda or cpu\n",
    "device = t.device(device)\n",
    "if device == 'cuda':\n",
    "    t.backends.cudnn.deterministic = True\n",
    "    t.backends.cudnn.benchmark = False"
   ]
  },
  {
   "cell_type": "code",
   "execution_count": 22,
   "metadata": {},
   "outputs": [],
   "source": [
    "batch_size = 256\n",
    "init_log_sigma = -3.0 # логарифм дисперсии вариационного распределения при инициализации\n",
    "prior_sigma = .1 # априорная дисперсия\n",
    "epoch_num = 25 #количество эпох\n",
    "lamb = [0.01, 0.1, 1.0,  10.0, 100.0]\n",
    "lamb = [t.tensor(l) for l in lamb]\n",
    "hidden_num = 50 # количество нейронов на скрытом слое\n",
    "acc_delete = [] \n",
    "start_num = 5\n",
    "path_to_save = 'saved_mnist'\n",
    "lambda_sample_num = 5\n",
    "lambda_encode = t.log \n",
    "\n",
    "if not os.path.exists(path_to_save):\n",
    "    os.mkdir(path_to_save)"
   ]
  },
  {
   "cell_type": "code",
   "execution_count": 13,
   "metadata": {},
   "outputs": [],
   "source": [
    "# загрузка данных\n",
    "train_data = torchvision.datasets.MNIST('./files/', train=True, download=True,\n",
    "                             transform = transforms.Compose([transforms.ToTensor(),\n",
    "                              transforms.Normalize((0.5,), (0.5,)),\n",
    "                                  torchvision.transforms.Lambda(lambda x: x.view(-1))\n",
    "                              ]))\n",
    "\n",
    "test_data = torchvision.datasets.MNIST('./files/', train=False, download=True,\n",
    "                             transform = transforms.Compose([transforms.ToTensor(),\n",
    "                              transforms.Normalize((0.5,), (0.5,)),\n",
    "                                  torchvision.transforms.Lambda(lambda x: x.view(-1))\n",
    "                              ]))\n",
    "\n",
    "\n",
    "train_loader = t.utils.data.DataLoader(train_data, batch_size=batch_size, pin_memory=True )\n",
    "test_loader = t.utils.data.DataLoader(test_data, batch_size=batch_size)\n",
    "\n",
    "\n",
    "\n"
   ]
  },
  {
   "cell_type": "code",
   "execution_count": 24,
   "metadata": {},
   "outputs": [
    {
     "name": "stderr",
     "output_type": "stream",
     "text": [
      "epoch 0: 16.976078: 100%|██████████| 235/235 [00:18<00:00, 12.76it/s]\n",
      "epoch 1: 9.450312:   1%|          | 2/235 [00:00<00:18, 12.78it/s]"
     ]
    },
    {
     "name": "stdout",
     "output_type": "stream",
     "text": [
      "{tensor(0.0100): 0.7914, tensor(0.1000): 0.766, tensor(1.): 0.4746, tensor(10.): 0.8231, tensor(100.): 0.8445}\n"
     ]
    },
    {
     "name": "stderr",
     "output_type": "stream",
     "text": [
      "epoch 1: 9.274299: 100%|██████████| 235/235 [00:17<00:00, 13.62it/s] \n",
      "epoch 2: 6.5761137: 100%|██████████| 235/235 [00:17<00:00, 13.32it/s]\n",
      "epoch 3: 4.501969: 100%|██████████| 235/235 [00:17<00:00, 13.15it/s] \n",
      "epoch 4: 3.6335828: 100%|██████████| 235/235 [00:17<00:00, 13.27it/s]\n",
      "epoch 5: 2.8276527: 100%|██████████| 235/235 [00:17<00:00, 13.30it/s]\n",
      "epoch 6: 0.3472876:   1%|          | 2/235 [00:00<00:16, 13.82it/s]"
     ]
    },
    {
     "name": "stdout",
     "output_type": "stream",
     "text": [
      "{tensor(0.0100): 0.9234, tensor(0.1000): 0.9271, tensor(1.): 0.9135, tensor(10.): 0.894, tensor(100.): 0.8792}\n"
     ]
    },
    {
     "name": "stderr",
     "output_type": "stream",
     "text": [
      "epoch 6: 1.9725419: 100%|██████████| 235/235 [00:17<00:00, 13.76it/s]\n",
      "epoch 7: 1.6659052: 100%|██████████| 235/235 [00:17<00:00, 13.50it/s]\n",
      "epoch 8: 1.3197061: 100%|██████████| 235/235 [00:17<00:00, 13.49it/s]\n",
      "epoch 9: 1.160548: 100%|██████████| 235/235 [00:17<00:00, 13.34it/s] \n",
      "epoch 10: 1.0122346: 100%|██████████| 235/235 [00:17<00:00, 13.51it/s] \n",
      "epoch 11: 0.512615:   1%|          | 2/235 [00:00<00:19, 12.15it/s]"
     ]
    },
    {
     "name": "stdout",
     "output_type": "stream",
     "text": [
      "{tensor(0.0100): 0.9468, tensor(0.1000): 0.9479, tensor(1.): 0.938, tensor(10.): 0.9024, tensor(100.): 0.8755}\n"
     ]
    },
    {
     "name": "stderr",
     "output_type": "stream",
     "text": [
      "epoch 11: 0.7995407: 100%|██████████| 235/235 [00:17<00:00, 13.43it/s] \n",
      "epoch 12: 0.656289: 100%|██████████| 235/235 [00:17<00:00, 13.47it/s]  \n",
      "epoch 13: 0.5710688: 100%|██████████| 235/235 [00:17<00:00, 13.38it/s] \n",
      "epoch 14: 0.51141423: 100%|██████████| 235/235 [00:17<00:00, 13.49it/s]\n",
      "epoch 15: 0.49197266: 100%|██████████| 235/235 [00:17<00:00, 13.41it/s]\n",
      "epoch 16: 0.40022564:   1%|          | 2/235 [00:00<00:19, 11.93it/s]"
     ]
    },
    {
     "name": "stdout",
     "output_type": "stream",
     "text": [
      "{tensor(0.0100): 0.956, tensor(0.1000): 0.9558, tensor(1.): 0.9459, tensor(10.): 0.9093, tensor(100.): 0.8514}\n"
     ]
    },
    {
     "name": "stderr",
     "output_type": "stream",
     "text": [
      "epoch 16: 0.40424517: 100%|██████████| 235/235 [00:17<00:00, 13.19it/s]\n",
      "epoch 17: 0.39196688: 100%|██████████| 235/235 [00:17<00:00, 13.56it/s]\n",
      "epoch 18: 0.38359374: 100%|██████████| 235/235 [00:17<00:00, 13.25it/s]\n",
      "epoch 19: 0.35890844: 100%|██████████| 235/235 [00:17<00:00, 13.32it/s]\n",
      "epoch 20: 0.3396801: 100%|██████████| 235/235 [00:17<00:00, 13.32it/s] \n",
      "epoch 21: 0.2132684:   1%|          | 2/235 [00:00<00:21, 10.79it/s]"
     ]
    },
    {
     "name": "stdout",
     "output_type": "stream",
     "text": [
      "{tensor(0.0100): 0.9582, tensor(0.1000): 0.9601, tensor(1.): 0.9516, tensor(10.): 0.9082, tensor(100.): 0.8368}\n"
     ]
    },
    {
     "name": "stderr",
     "output_type": "stream",
     "text": [
      "epoch 21: 0.33758312: 100%|██████████| 235/235 [00:17<00:00, 13.46it/s]\n",
      "epoch 22: 0.3135907: 100%|██████████| 235/235 [00:17<00:00, 13.30it/s] \n",
      "epoch 23: 0.31802237: 100%|██████████| 235/235 [00:17<00:00, 13.53it/s]\n",
      "epoch 24: 0.30788672: 100%|██████████| 235/235 [00:17<00:00, 13.34it/s]\n",
      "epoch 0: 17.748112: 100%|██████████| 235/235 [00:17<00:00, 13.13it/s]\n",
      "epoch 1: 10.697416:   1%|          | 2/235 [00:00<00:18, 12.49it/s]"
     ]
    },
    {
     "name": "stdout",
     "output_type": "stream",
     "text": [
      "{tensor(0.0100): 0.7921, tensor(0.1000): 0.752, tensor(1.): 0.4202, tensor(10.): 0.8215, tensor(100.): 0.8404}\n"
     ]
    },
    {
     "name": "stderr",
     "output_type": "stream",
     "text": [
      "epoch 1: 8.901467: 100%|██████████| 235/235 [00:17<00:00, 13.24it/s]  \n",
      "epoch 2: 6.591024: 100%|██████████| 235/235 [00:17<00:00, 13.62it/s] \n",
      "epoch 3: 3.9746954: 100%|██████████| 235/235 [00:17<00:00, 13.70it/s]\n",
      "epoch 4: 2.968021: 100%|██████████| 235/235 [00:17<00:00, 13.06it/s] \n",
      "epoch 5: 2.4084897: 100%|██████████| 235/235 [00:17<00:00, 13.37it/s]\n",
      "epoch 6: 1.4631535:   1%|          | 2/235 [00:00<00:14, 16.01it/s]"
     ]
    },
    {
     "name": "stdout",
     "output_type": "stream",
     "text": [
      "{tensor(0.0100): 0.9133, tensor(0.1000): 0.9175, tensor(1.): 0.9083, tensor(10.): 0.886, tensor(100.): 0.8956}\n"
     ]
    },
    {
     "name": "stderr",
     "output_type": "stream",
     "text": [
      "epoch 6: 1.7081392: 100%|██████████| 235/235 [00:17<00:00, 13.40it/s]\n",
      "epoch 7: 1.4730145: 100%|██████████| 235/235 [00:17<00:00, 13.38it/s]\n",
      "epoch 8: 1.064166: 100%|██████████| 235/235 [00:17<00:00, 13.56it/s] \n",
      "epoch 9: 0.92276484: 100%|██████████| 235/235 [00:17<00:00, 13.39it/s]\n",
      "epoch 10: 0.79047227: 100%|██████████| 235/235 [00:17<00:00, 13.30it/s]\n",
      "epoch 11: 0.77216226:   1%|          | 2/235 [00:00<00:16, 13.89it/s]"
     ]
    },
    {
     "name": "stdout",
     "output_type": "stream",
     "text": [
      "{tensor(0.0100): 0.9397, tensor(0.1000): 0.9388, tensor(1.): 0.9323, tensor(10.): 0.9121, tensor(100.): 0.8702}\n"
     ]
    },
    {
     "name": "stderr",
     "output_type": "stream",
     "text": [
      "epoch 11: 0.6612196: 100%|██████████| 235/235 [00:17<00:00, 13.44it/s] \n",
      "epoch 12: 0.5659305: 100%|██████████| 235/235 [00:17<00:00, 13.51it/s] \n",
      "epoch 13: 0.48799467: 100%|██████████| 235/235 [00:17<00:00, 13.32it/s]\n",
      "epoch 14: 0.4614106: 100%|██████████| 235/235 [00:17<00:00, 13.45it/s] \n",
      "epoch 15: 0.44325995: 100%|██████████| 235/235 [00:17<00:00, 13.21it/s]\n",
      "epoch 16: 0.35066134:   1%|          | 2/235 [00:00<00:18, 12.32it/s]"
     ]
    },
    {
     "name": "stdout",
     "output_type": "stream",
     "text": [
      "{tensor(0.0100): 0.9542, tensor(0.1000): 0.9515, tensor(1.): 0.9414, tensor(10.): 0.9114, tensor(100.): 0.8492}\n"
     ]
    },
    {
     "name": "stderr",
     "output_type": "stream",
     "text": [
      "epoch 16: 0.41744924: 100%|██████████| 235/235 [00:17<00:00, 13.34it/s]\n",
      "epoch 17: 0.38378128: 100%|██████████| 235/235 [00:17<00:00, 13.35it/s]\n",
      "epoch 18: 0.3703873: 100%|██████████| 235/235 [00:17<00:00, 13.26it/s] \n",
      "epoch 19: 0.3823154: 100%|██████████| 235/235 [00:17<00:00, 13.52it/s] \n",
      "epoch 20: 0.35345805: 100%|██████████| 235/235 [00:17<00:00, 13.32it/s]\n",
      "epoch 21: 0.24868366:   1%|          | 2/235 [00:00<00:19, 11.83it/s]"
     ]
    },
    {
     "name": "stdout",
     "output_type": "stream",
     "text": [
      "{tensor(0.0100): 0.9424, tensor(0.1000): 0.9529, tensor(1.): 0.9503, tensor(10.): 0.9197, tensor(100.): 0.8321}\n"
     ]
    },
    {
     "name": "stderr",
     "output_type": "stream",
     "text": [
      "epoch 21: 0.333769: 100%|██████████| 235/235 [00:17<00:00, 13.40it/s]  \n",
      "epoch 22: 0.32728764: 100%|██████████| 235/235 [00:17<00:00, 13.53it/s]\n",
      "epoch 23: 0.3191796: 100%|██████████| 235/235 [00:17<00:00, 13.31it/s] \n",
      "epoch 24: 0.33016592: 100%|██████████| 235/235 [00:17<00:00, 13.44it/s]\n",
      "epoch 0: 15.419759: 100%|██████████| 235/235 [00:18<00:00, 12.93it/s] \n",
      "epoch 1: 12.762907:   1%|          | 2/235 [00:00<00:16, 13.90it/s]"
     ]
    },
    {
     "name": "stdout",
     "output_type": "stream",
     "text": [
      "{tensor(0.0100): 0.6327, tensor(0.1000): 0.615, tensor(1.): 0.4081, tensor(10.): 0.8159, tensor(100.): 0.845}\n"
     ]
    },
    {
     "name": "stderr",
     "output_type": "stream",
     "text": [
      "epoch 1: 9.781131: 100%|██████████| 235/235 [00:17<00:00, 13.58it/s]  \n",
      "epoch 2: 7.0161953: 100%|██████████| 235/235 [00:17<00:00, 13.54it/s]\n",
      "epoch 3: 4.3588853: 100%|██████████| 235/235 [00:17<00:00, 13.40it/s]\n",
      "epoch 4: 3.5234683: 100%|██████████| 235/235 [00:17<00:00, 13.21it/s]\n",
      "epoch 5: 2.8410313: 100%|██████████| 235/235 [00:17<00:00, 13.10it/s]\n",
      "epoch 6: 1.6682673:   1%|          | 2/235 [00:00<00:17, 13.53it/s]"
     ]
    },
    {
     "name": "stdout",
     "output_type": "stream",
     "text": [
      "{tensor(0.0100): 0.9206, tensor(0.1000): 0.919, tensor(1.): 0.899, tensor(10.): 0.888, tensor(100.): 0.8426}\n"
     ]
    },
    {
     "name": "stderr",
     "output_type": "stream",
     "text": [
      "epoch 6: 1.9461852: 100%|██████████| 235/235 [00:17<00:00, 13.28it/s]\n",
      "epoch 7: 1.5716882: 100%|██████████| 235/235 [00:17<00:00, 13.33it/s]\n",
      "epoch 8: 1.2024865: 100%|██████████| 235/235 [00:17<00:00, 13.61it/s]\n",
      "epoch 9: 1.1477811: 100%|██████████| 235/235 [00:17<00:00, 13.44it/s]\n",
      "epoch 10: 0.8197036: 100%|██████████| 235/235 [00:17<00:00, 13.17it/s] \n",
      "epoch 11: 1.7885172:   1%|          | 2/235 [00:00<00:15, 14.76it/s]"
     ]
    },
    {
     "name": "stdout",
     "output_type": "stream",
     "text": [
      "{tensor(0.0100): 0.9391, tensor(0.1000): 0.9395, tensor(1.): 0.9319, tensor(10.): 0.9036, tensor(100.): 0.8626}\n"
     ]
    },
    {
     "name": "stderr",
     "output_type": "stream",
     "text": [
      "epoch 11: 0.7261132: 100%|██████████| 235/235 [00:17<00:00, 13.30it/s] \n",
      "epoch 12: 0.6349072: 100%|██████████| 235/235 [00:17<00:00, 13.24it/s] \n",
      "epoch 13: 0.58055574: 100%|██████████| 235/235 [00:17<00:00, 13.33it/s]\n",
      "epoch 14: 0.4744315: 100%|██████████| 235/235 [00:17<00:00, 13.38it/s] \n",
      "epoch 15: 0.45620632: 100%|██████████| 235/235 [00:17<00:00, 13.39it/s]\n",
      "epoch 16: 0.5210781:   1%|          | 2/235 [00:00<00:16, 14.49it/s]"
     ]
    },
    {
     "name": "stdout",
     "output_type": "stream",
     "text": [
      "{tensor(0.0100): 0.9512, tensor(0.1000): 0.9527, tensor(1.): 0.9442, tensor(10.): 0.9044, tensor(100.): 0.7593}\n"
     ]
    },
    {
     "name": "stderr",
     "output_type": "stream",
     "text": [
      "epoch 16: 0.42805073: 100%|██████████| 235/235 [00:17<00:00, 13.32it/s]\n",
      "epoch 17: 0.36674675: 100%|██████████| 235/235 [00:17<00:00, 13.57it/s]\n",
      "epoch 18: 0.3630996: 100%|██████████| 235/235 [00:17<00:00, 13.56it/s] \n",
      "epoch 19: 0.36697823: 100%|██████████| 235/235 [00:17<00:00, 13.16it/s]\n",
      "epoch 20: 0.34156972: 100%|██████████| 235/235 [00:17<00:00, 13.37it/s]\n",
      "epoch 21: 0.40977687:   1%|          | 2/235 [00:00<00:16, 14.46it/s]"
     ]
    },
    {
     "name": "stdout",
     "output_type": "stream",
     "text": [
      "{tensor(0.0100): 0.9526, tensor(0.1000): 0.9561, tensor(1.): 0.9493, tensor(10.): 0.91, tensor(100.): 0.8252}\n"
     ]
    },
    {
     "name": "stderr",
     "output_type": "stream",
     "text": [
      "epoch 21: 0.34019288: 100%|██████████| 235/235 [00:17<00:00, 13.32it/s]\n",
      "epoch 22: 0.34165844: 100%|██████████| 235/235 [00:17<00:00, 13.27it/s]\n",
      "epoch 23: 0.30948123: 100%|██████████| 235/235 [00:17<00:00, 13.33it/s]\n",
      "epoch 24: 0.29286748: 100%|██████████| 235/235 [00:18<00:00, 12.98it/s]\n",
      "epoch 0: 15.001783: 100%|██████████| 235/235 [00:18<00:00, 12.68it/s] \n",
      "epoch 1: 9.483836:   1%|          | 2/235 [00:00<00:15, 15.25it/s] "
     ]
    },
    {
     "name": "stdout",
     "output_type": "stream",
     "text": [
      "{tensor(0.0100): 0.7842, tensor(0.1000): 0.7428, tensor(1.): 0.4298, tensor(10.): 0.7656, tensor(100.): 0.7719}\n"
     ]
    },
    {
     "name": "stderr",
     "output_type": "stream",
     "text": [
      "epoch 1: 10.0862055: 100%|██████████| 235/235 [00:17<00:00, 13.20it/s]\n",
      "epoch 2: 6.254555: 100%|██████████| 235/235 [00:18<00:00, 13.04it/s] \n",
      "epoch 3: 4.3397183: 100%|██████████| 235/235 [00:17<00:00, 13.23it/s]\n",
      "epoch 4: 3.4016407: 100%|██████████| 235/235 [00:17<00:00, 13.55it/s]\n",
      "epoch 5: 2.5328357: 100%|██████████| 235/235 [00:17<00:00, 13.36it/s]\n",
      "epoch 6: 2.8176568:   1%|          | 2/235 [00:00<00:15, 15.04it/s]"
     ]
    },
    {
     "name": "stdout",
     "output_type": "stream",
     "text": [
      "{tensor(0.0100): 0.9219, tensor(0.1000): 0.9236, tensor(1.): 0.9082, tensor(10.): 0.8956, tensor(100.): 0.8795}\n"
     ]
    },
    {
     "name": "stderr",
     "output_type": "stream",
     "text": [
      "epoch 6: 1.9459649: 100%|██████████| 235/235 [00:17<00:00, 13.32it/s]\n",
      "epoch 7: 1.5460466: 100%|██████████| 235/235 [00:17<00:00, 13.79it/s]\n",
      "epoch 8: 1.1891541: 100%|██████████| 235/235 [00:18<00:00, 13.02it/s]\n",
      "epoch 9: 0.9636573: 100%|██████████| 235/235 [00:17<00:00, 13.23it/s] \n",
      "epoch 10: 0.73411167: 100%|██████████| 235/235 [00:17<00:00, 13.26it/s]\n",
      "epoch 11: 1.2316843:   1%|          | 2/235 [00:00<00:18, 12.64it/s]"
     ]
    },
    {
     "name": "stdout",
     "output_type": "stream",
     "text": [
      "{tensor(0.0100): 0.9438, tensor(0.1000): 0.9451, tensor(1.): 0.9369, tensor(10.): 0.9015, tensor(100.): 0.8257}\n"
     ]
    },
    {
     "name": "stderr",
     "output_type": "stream",
     "text": [
      "epoch 11: 0.67838335: 100%|██████████| 235/235 [00:17<00:00, 13.26it/s]\n",
      "epoch 12: 0.58657795: 100%|██████████| 235/235 [00:17<00:00, 13.19it/s]\n",
      "epoch 13: 0.5247983: 100%|██████████| 235/235 [00:18<00:00, 13.05it/s] \n",
      "epoch 14: 0.47472963: 100%|██████████| 235/235 [00:17<00:00, 13.38it/s]\n",
      "epoch 15: 0.45219165: 100%|██████████| 235/235 [00:17<00:00, 13.24it/s]\n",
      "epoch 16: 0.29126692:   1%|          | 2/235 [00:00<00:14, 16.00it/s]"
     ]
    },
    {
     "name": "stdout",
     "output_type": "stream",
     "text": [
      "{tensor(0.0100): 0.9491, tensor(0.1000): 0.9529, tensor(1.): 0.947, tensor(10.): 0.9157, tensor(100.): 0.8097}\n"
     ]
    },
    {
     "name": "stderr",
     "output_type": "stream",
     "text": [
      "epoch 16: 0.41194797: 100%|██████████| 235/235 [00:17<00:00, 13.49it/s]\n",
      "epoch 17: 0.38672584: 100%|██████████| 235/235 [00:17<00:00, 13.21it/s]\n",
      "epoch 18: 0.36836877: 100%|██████████| 235/235 [00:17<00:00, 13.33it/s]\n",
      "epoch 19: 0.3603134: 100%|██████████| 235/235 [00:17<00:00, 13.45it/s] \n",
      "epoch 20: 0.33576623: 100%|██████████| 235/235 [00:17<00:00, 13.16it/s]\n",
      "epoch 21: 0.27668452:   1%|          | 2/235 [00:00<00:19, 12.17it/s]"
     ]
    },
    {
     "name": "stdout",
     "output_type": "stream",
     "text": [
      "{tensor(0.0100): 0.9529, tensor(0.1000): 0.96, tensor(1.): 0.9533, tensor(10.): 0.9068, tensor(100.): 0.7058}\n"
     ]
    },
    {
     "name": "stderr",
     "output_type": "stream",
     "text": [
      "epoch 21: 0.33210132: 100%|██████████| 235/235 [00:17<00:00, 13.47it/s]\n",
      "epoch 22: 0.32759687: 100%|██████████| 235/235 [00:17<00:00, 13.49it/s]\n",
      "epoch 23: 0.32523504: 100%|██████████| 235/235 [00:17<00:00, 13.30it/s]\n",
      "epoch 24: 0.29801628: 100%|██████████| 235/235 [00:17<00:00, 13.43it/s]\n",
      "epoch 0: 16.940315: 100%|██████████| 235/235 [00:18<00:00, 12.88it/s]\n",
      "epoch 1: 15.659763:   1%|          | 2/235 [00:00<00:15, 15.22it/s]"
     ]
    },
    {
     "name": "stdout",
     "output_type": "stream",
     "text": [
      "{tensor(0.0100): 0.7965, tensor(0.1000): 0.7576, tensor(1.): 0.4651, tensor(10.): 0.7729, tensor(100.): 0.7976}\n"
     ]
    },
    {
     "name": "stderr",
     "output_type": "stream",
     "text": [
      "epoch 1: 10.653656: 100%|██████████| 235/235 [00:17<00:00, 13.47it/s] \n",
      "epoch 2: 7.4717984: 100%|██████████| 235/235 [00:17<00:00, 13.11it/s]\n",
      "epoch 3: 4.017305: 100%|██████████| 235/235 [00:17<00:00, 13.47it/s] \n",
      "epoch 4: 3.3361475: 100%|██████████| 235/235 [00:17<00:00, 13.21it/s]\n",
      "epoch 5: 2.4322433: 100%|██████████| 235/235 [00:17<00:00, 13.35it/s]\n",
      "epoch 6: 3.5030277:   1%|          | 2/235 [00:00<00:16, 14.35it/s]"
     ]
    },
    {
     "name": "stdout",
     "output_type": "stream",
     "text": [
      "{tensor(0.0100): 0.9242, tensor(0.1000): 0.9261, tensor(1.): 0.9127, tensor(10.): 0.8931, tensor(100.): 0.8881}\n"
     ]
    },
    {
     "name": "stderr",
     "output_type": "stream",
     "text": [
      "epoch 6: 1.9345686: 100%|██████████| 235/235 [00:17<00:00, 13.17it/s]\n",
      "epoch 7: 1.6326548: 100%|██████████| 235/235 [00:17<00:00, 13.52it/s]\n",
      "epoch 8: 1.3120743: 100%|██████████| 235/235 [00:17<00:00, 13.57it/s]\n",
      "epoch 9: 1.0932208: 100%|██████████| 235/235 [00:17<00:00, 13.24it/s]\n",
      "epoch 10: 0.8553395: 100%|██████████| 235/235 [00:17<00:00, 13.42it/s] \n",
      "epoch 11: 1.0412058:   1%|          | 2/235 [00:00<00:17, 13.29it/s]"
     ]
    },
    {
     "name": "stdout",
     "output_type": "stream",
     "text": [
      "{tensor(0.0100): 0.945, tensor(0.1000): 0.9457, tensor(1.): 0.9349, tensor(10.): 0.8979, tensor(100.): 0.8638}\n"
     ]
    },
    {
     "name": "stderr",
     "output_type": "stream",
     "text": [
      "epoch 11: 0.7921596: 100%|██████████| 235/235 [00:17<00:00, 13.28it/s] \n",
      "epoch 12: 0.6942389: 100%|██████████| 235/235 [00:17<00:00, 13.56it/s] \n",
      "epoch 13: 0.5849493: 100%|██████████| 235/235 [00:17<00:00, 13.52it/s] \n",
      "epoch 14: 0.5301213: 100%|██████████| 235/235 [00:17<00:00, 13.72it/s] \n",
      "epoch 15: 0.43811628: 100%|██████████| 235/235 [00:17<00:00, 13.16it/s]\n",
      "epoch 16: 0.46966156:   1%|          | 2/235 [00:00<00:15, 14.72it/s]"
     ]
    },
    {
     "name": "stdout",
     "output_type": "stream",
     "text": [
      "{tensor(0.0100): 0.9536, tensor(0.1000): 0.954, tensor(1.): 0.9454, tensor(10.): 0.9086, tensor(100.): 0.8052}\n"
     ]
    },
    {
     "name": "stderr",
     "output_type": "stream",
     "text": [
      "epoch 16: 0.42672727: 100%|██████████| 235/235 [00:17<00:00, 13.37it/s]\n",
      "epoch 17: 0.39843553: 100%|██████████| 235/235 [00:17<00:00, 13.36it/s]\n",
      "epoch 18: 0.35711628: 100%|██████████| 235/235 [00:17<00:00, 13.40it/s]\n",
      "epoch 19: 0.3411672: 100%|██████████| 235/235 [00:17<00:00, 13.32it/s] \n",
      "epoch 20: 0.34888905: 100%|██████████| 235/235 [00:17<00:00, 13.53it/s]\n",
      "epoch 21: 0.36448663:   1%|          | 2/235 [00:00<00:14, 15.63it/s]"
     ]
    },
    {
     "name": "stdout",
     "output_type": "stream",
     "text": [
      "{tensor(0.0100): 0.9561, tensor(0.1000): 0.9581, tensor(1.): 0.9505, tensor(10.): 0.9151, tensor(100.): 0.7831}\n"
     ]
    },
    {
     "name": "stderr",
     "output_type": "stream",
     "text": [
      "epoch 21: 0.3517701: 100%|██████████| 235/235 [00:17<00:00, 13.14it/s] \n",
      "epoch 22: 0.3323541: 100%|██████████| 235/235 [00:17<00:00, 13.15it/s] \n",
      "epoch 23: 0.32805195: 100%|██████████| 235/235 [00:17<00:00, 13.39it/s]\n",
      "epoch 24: 0.28414476: 100%|██████████| 235/235 [00:17<00:00, 13.24it/s]\n"
     ]
    }
   ],
   "source": [
    "t.manual_seed(0)\n",
    "\n",
    "for start in range(start_num):                    \n",
    "        net = var_net.VarNet(linear_var_hypernet.VarLayerLinearAppr(784,  hidden_num, prior_sigma=prior_sigma, init_log_sigma=init_log_sigma),\n",
    "                     linear_var_hypernet.VarLayerLinearAppr(hidden_num, 10,  prior_sigma=prior_sigma, act=lambda x:x, init_log_sigma=init_log_sigma))\n",
    "\n",
    "        net = net.to(device)\n",
    "        optim = t.optim.Adam(net.parameters(), lr=5e-4)\n",
    "        loss_fn = nn.CrossEntropyLoss().to(device)            \n",
    "        for e in range(epoch_num):\n",
    "            label = 'epoch {}: '.format(e)                \n",
    "            utils.train_batches_hypernet(train_loader,  len(train_data), lambda_sample_num,\n",
    "                  lambda_encode, net, device, loss_fn, optim, label)\n",
    "            if e%5 == 0:\n",
    "                print (utils.test_acc_hyper(net, device, test_loader, lambda_encode, lamb))\n",
    "        t.save(net.state_dict(), os.path.join(path_to_save, 'var_linear_start_{}.cpk'.format(start)))"
   ]
  },
  {
   "cell_type": "code",
   "execution_count": 28,
   "metadata": {},
   "outputs": [
    {
     "name": "stderr",
     "output_type": "stream",
     "text": [
      "../src/var_net.py:9: UserWarning: nn.init.xavier_uniform is now deprecated in favor of nn.init.xavier_uniform_.\n",
      "  t.nn.init.xavier_uniform(self.mean)\n",
      "../src/linear_var_hypernet.py:74: UserWarning: nn.init.xavier_uniform is now deprecated in favor of nn.init.xavier_uniform_.\n",
      "  t.nn.init.xavier_uniform(self.const,  init_const)\n",
      "../src/linear_var_hypernet.py:76: UserWarning: nn.init.xavier_uniform is now deprecated in favor of nn.init.xavier_uniform_.\n",
      "  t.nn.init.xavier_uniform(self.const2,  init_const2)\n"
     ]
    },
    {
     "name": "stdout",
     "output_type": "stream",
     "text": [
      "tensor(0.0100) 0\n",
      "tensor(0.0100) 1\n",
      "tensor(0.0100) 2\n",
      "tensor(0.0100) 3\n",
      "tensor(0.0100) 4\n",
      "tensor(0.1000) 0\n",
      "tensor(0.1000) 1\n",
      "tensor(0.1000) 2\n",
      "tensor(0.1000) 3\n",
      "tensor(0.1000) 4\n",
      "tensor(1.) 0\n",
      "tensor(1.) 1\n",
      "tensor(1.) 2\n",
      "tensor(1.) 3\n",
      "tensor(1.) 4\n",
      "tensor(10.) 0\n",
      "tensor(10.) 1\n",
      "tensor(10.) 2\n",
      "tensor(10.) 3\n",
      "tensor(10.) 4\n",
      "tensor(100.) 0\n",
      "tensor(100.) 1\n",
      "tensor(100.) 2\n",
      "tensor(100.) 3\n",
      "tensor(100.) 4\n"
     ]
    },
    {
     "ename": "TypeError",
     "evalue": "keys must be str, int, float, bool or None, not Tensor",
     "output_type": "error",
     "traceback": [
      "\u001b[0;31m---------------------------------------------------------------------------\u001b[0m",
      "\u001b[0;31mTypeError\u001b[0m                                 Traceback (most recent call last)",
      "\u001b[0;32m<ipython-input-28-39eeef14a7ab>\u001b[0m in \u001b[0;36m<module>\u001b[0;34m\u001b[0m\n\u001b[1;32m     18\u001b[0m \u001b[0;32mimport\u001b[0m \u001b[0mjson\u001b[0m\u001b[0;34m\u001b[0m\u001b[0;34m\u001b[0m\u001b[0m\n\u001b[1;32m     19\u001b[0m \u001b[0;32mwith\u001b[0m \u001b[0mopen\u001b[0m\u001b[0;34m(\u001b[0m\u001b[0mos\u001b[0m\u001b[0;34m.\u001b[0m\u001b[0mpath\u001b[0m\u001b[0;34m.\u001b[0m\u001b[0mjoin\u001b[0m\u001b[0;34m(\u001b[0m\u001b[0mpath_to_save\u001b[0m\u001b[0;34m,\u001b[0m \u001b[0;34m'results_var_linear.json'\u001b[0m\u001b[0;34m)\u001b[0m\u001b[0;34m,\u001b[0m\u001b[0;34m'w'\u001b[0m\u001b[0;34m)\u001b[0m \u001b[0;32mas\u001b[0m \u001b[0mout\u001b[0m\u001b[0;34m:\u001b[0m\u001b[0;34m\u001b[0m\u001b[0;34m\u001b[0m\u001b[0m\n\u001b[0;32m---> 20\u001b[0;31m     \u001b[0mout\u001b[0m\u001b[0;34m.\u001b[0m\u001b[0mwrite\u001b[0m\u001b[0;34m(\u001b[0m\u001b[0mjson\u001b[0m\u001b[0;34m.\u001b[0m\u001b[0mdumps\u001b[0m\u001b[0;34m(\u001b[0m\u001b[0mlam_results\u001b[0m\u001b[0;34m)\u001b[0m\u001b[0;34m)\u001b[0m\u001b[0;34m\u001b[0m\u001b[0;34m\u001b[0m\u001b[0m\n\u001b[0m",
      "\u001b[0;32m/usr/lib/python3.7/json/__init__.py\u001b[0m in \u001b[0;36mdumps\u001b[0;34m(obj, skipkeys, ensure_ascii, check_circular, allow_nan, cls, indent, separators, default, sort_keys, **kw)\u001b[0m\n\u001b[1;32m    229\u001b[0m         \u001b[0mcls\u001b[0m \u001b[0;32mis\u001b[0m \u001b[0;32mNone\u001b[0m \u001b[0;32mand\u001b[0m \u001b[0mindent\u001b[0m \u001b[0;32mis\u001b[0m \u001b[0;32mNone\u001b[0m \u001b[0;32mand\u001b[0m \u001b[0mseparators\u001b[0m \u001b[0;32mis\u001b[0m \u001b[0;32mNone\u001b[0m \u001b[0;32mand\u001b[0m\u001b[0;34m\u001b[0m\u001b[0;34m\u001b[0m\u001b[0m\n\u001b[1;32m    230\u001b[0m         default is None and not sort_keys and not kw):\n\u001b[0;32m--> 231\u001b[0;31m         \u001b[0;32mreturn\u001b[0m \u001b[0m_default_encoder\u001b[0m\u001b[0;34m.\u001b[0m\u001b[0mencode\u001b[0m\u001b[0;34m(\u001b[0m\u001b[0mobj\u001b[0m\u001b[0;34m)\u001b[0m\u001b[0;34m\u001b[0m\u001b[0;34m\u001b[0m\u001b[0m\n\u001b[0m\u001b[1;32m    232\u001b[0m     \u001b[0;32mif\u001b[0m \u001b[0mcls\u001b[0m \u001b[0;32mis\u001b[0m \u001b[0;32mNone\u001b[0m\u001b[0;34m:\u001b[0m\u001b[0;34m\u001b[0m\u001b[0;34m\u001b[0m\u001b[0m\n\u001b[1;32m    233\u001b[0m         \u001b[0mcls\u001b[0m \u001b[0;34m=\u001b[0m \u001b[0mJSONEncoder\u001b[0m\u001b[0;34m\u001b[0m\u001b[0;34m\u001b[0m\u001b[0m\n",
      "\u001b[0;32m/usr/lib/python3.7/json/encoder.py\u001b[0m in \u001b[0;36mencode\u001b[0;34m(self, o)\u001b[0m\n\u001b[1;32m    197\u001b[0m         \u001b[0;31m# exceptions aren't as detailed.  The list call should be roughly\u001b[0m\u001b[0;34m\u001b[0m\u001b[0;34m\u001b[0m\u001b[0;34m\u001b[0m\u001b[0m\n\u001b[1;32m    198\u001b[0m         \u001b[0;31m# equivalent to the PySequence_Fast that ''.join() would do.\u001b[0m\u001b[0;34m\u001b[0m\u001b[0;34m\u001b[0m\u001b[0;34m\u001b[0m\u001b[0m\n\u001b[0;32m--> 199\u001b[0;31m         \u001b[0mchunks\u001b[0m \u001b[0;34m=\u001b[0m \u001b[0mself\u001b[0m\u001b[0;34m.\u001b[0m\u001b[0miterencode\u001b[0m\u001b[0;34m(\u001b[0m\u001b[0mo\u001b[0m\u001b[0;34m,\u001b[0m \u001b[0m_one_shot\u001b[0m\u001b[0;34m=\u001b[0m\u001b[0;32mTrue\u001b[0m\u001b[0;34m)\u001b[0m\u001b[0;34m\u001b[0m\u001b[0;34m\u001b[0m\u001b[0m\n\u001b[0m\u001b[1;32m    200\u001b[0m         \u001b[0;32mif\u001b[0m \u001b[0;32mnot\u001b[0m \u001b[0misinstance\u001b[0m\u001b[0;34m(\u001b[0m\u001b[0mchunks\u001b[0m\u001b[0;34m,\u001b[0m \u001b[0;34m(\u001b[0m\u001b[0mlist\u001b[0m\u001b[0;34m,\u001b[0m \u001b[0mtuple\u001b[0m\u001b[0;34m)\u001b[0m\u001b[0;34m)\u001b[0m\u001b[0;34m:\u001b[0m\u001b[0;34m\u001b[0m\u001b[0;34m\u001b[0m\u001b[0m\n\u001b[1;32m    201\u001b[0m             \u001b[0mchunks\u001b[0m \u001b[0;34m=\u001b[0m \u001b[0mlist\u001b[0m\u001b[0;34m(\u001b[0m\u001b[0mchunks\u001b[0m\u001b[0;34m)\u001b[0m\u001b[0;34m\u001b[0m\u001b[0;34m\u001b[0m\u001b[0m\n",
      "\u001b[0;32m/usr/lib/python3.7/json/encoder.py\u001b[0m in \u001b[0;36miterencode\u001b[0;34m(self, o, _one_shot)\u001b[0m\n\u001b[1;32m    255\u001b[0m                 \u001b[0mself\u001b[0m\u001b[0;34m.\u001b[0m\u001b[0mkey_separator\u001b[0m\u001b[0;34m,\u001b[0m \u001b[0mself\u001b[0m\u001b[0;34m.\u001b[0m\u001b[0mitem_separator\u001b[0m\u001b[0;34m,\u001b[0m \u001b[0mself\u001b[0m\u001b[0;34m.\u001b[0m\u001b[0msort_keys\u001b[0m\u001b[0;34m,\u001b[0m\u001b[0;34m\u001b[0m\u001b[0;34m\u001b[0m\u001b[0m\n\u001b[1;32m    256\u001b[0m                 self.skipkeys, _one_shot)\n\u001b[0;32m--> 257\u001b[0;31m         \u001b[0;32mreturn\u001b[0m \u001b[0m_iterencode\u001b[0m\u001b[0;34m(\u001b[0m\u001b[0mo\u001b[0m\u001b[0;34m,\u001b[0m \u001b[0;36m0\u001b[0m\u001b[0;34m)\u001b[0m\u001b[0;34m\u001b[0m\u001b[0;34m\u001b[0m\u001b[0m\n\u001b[0m\u001b[1;32m    258\u001b[0m \u001b[0;34m\u001b[0m\u001b[0m\n\u001b[1;32m    259\u001b[0m def _make_iterencode(markers, _default, _encoder, _indent, _floatstr,\n",
      "\u001b[0;31mTypeError\u001b[0m: keys must be str, int, float, bool or None, not Tensor"
     ]
    }
   ],
   "source": [
    "net = var_net.VarNet(var_net.VarLayer(784,  hidden_num, \n",
    "                                            prior_sigma = prior_sigma, init_log_sigma=init_log_sigma), \n",
    "                                 var_net.VarLayer(hidden_num, 10, prior_sigma=prior_sigma,  init_log_sigma=init_log_sigma,\n",
    "                                          act=lambda x:x)).to(device)    \n",
    "hnet = var_net.VarNet(linear_var_hypernet.VarLayerLinearAppr(784,  hidden_num, prior_sigma=prior_sigma, init_log_sigma=init_log_sigma),\n",
    "                     linear_var_hypernet.VarLayerLinearAppr(hidden_num, 10,  prior_sigma=prior_sigma, act=lambda x:x, init_log_sigma=init_log_sigma))\n",
    "\n",
    "hnet = hnet.to(device)\n",
    "net = net.to(device)\n",
    "lam_results = {}\n",
    "for lam in lamb:\n",
    "    lam_results[lam] = []\n",
    "    for s in range(start_num):        \n",
    "        print (lam, s)\n",
    "        hnet.load_state_dict(t.load(os.path.join(path_to_save, 'var_linear_start_{}.cpk'.format(s))))        \n",
    "        utils.net_copy(hnet, net, lambda_encode(t.ones(1).to(device)[0]*lam))\n",
    "        lam_results[lam].append(utils.delete_10(net, device, lambda:utils.test_acc_net(net, device, test_loader)))\n",
    "lam_results = {float(k):lam_results[k] for k in lam_results}\n",
    "import json\n",
    "with open(os.path.join(path_to_save, 'results_var_linear.json'),'w') as out:\n",
    "    out.write(json.dumps(lam_results))  "
   ]
  },
  {
   "cell_type": "code",
   "execution_count": 37,
   "metadata": {},
   "outputs": [
    {
     "data": {
      "image/png": "[encoded data removed]",
      "text/plain": [
       "<Figure size 864x864 with 1 Axes>"
      ]
     },
     "metadata": {
      "needs_background": "light"
     },
     "output_type": "display_data"
    }
   ],
   "source": [
    "proc = [0,10,20,30,40,50,60,70,80,90]\n",
    "plt.rcParams['figure.figsize'] = 12, 12\n",
    "plt.rcParams.update({'font.size': 27})\n",
    "plt.rc('lines', linewidth=4)\n",
    "    \n",
    "    \n",
    "for lam in lamb:\n",
    "    lam = float(lam)\n",
    "    lam_str = \"{:10.2f}\".format(lam)\n",
    "\n",
    "    plt.fill_between(proc, np.min(lam_results[lam], 0), np.max(lam_results[lam], 0), alpha=0.2)\n",
    "    plt.plot(proc, np.mean(lam_results[lam], 0), label='$\\lambda={}$'.format(lam_str))\n",
    "plt.ylabel('Точность классификации', fontsize = 27)\n",
    "plt.xlabel('Процент удаления', fontsize = 27)\n",
    "plt.tick_params(axis='both', which='major', labelsize=27)\n",
    "plt.legend(loc='lower left')\n",
    "plt.autoscale(enable=True, axis='x', tight=True)\n",
    "plt.savefig('Linear_var')\n",
    "#plt.show()\n"
   ]
  }
 ],
 "metadata": {
  "kernelspec": {
   "display_name": "Python 3",
   "language": "python",
   "name": "python3"
  },
  "language_info": {
   "codemirror_mode": {
    "name": "ipython",
    "version": 3
   },
   "file_extension": ".py",
   "mimetype": "text/x-python",
   "name": "python",
   "nbconvert_exporter": "python",
   "pygments_lexer": "ipython3",
   "version": "3.7.3"
  }
 },
 "nbformat": 4,
 "nbformat_minor": 2
}
