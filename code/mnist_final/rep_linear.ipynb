{
 "cells": [
  {
   "cell_type": "code",
   "execution_count": 1,
   "metadata": {},
   "outputs": [],
   "source": [
    "import torch as t \n",
    "import torchvision\n",
    "import numpy as np\n",
    "import torch.nn as nn\n",
    "import torch.nn.functional as F\n",
    "import torch.optim as optim\n",
    "import matplotlib.pylab as plt\n",
    "from torch.nn.utils import clip_grad_value_\n",
    "%matplotlib inline\n",
    "import pickle\n",
    "from torchvision import datasets, transforms\n",
    "import tqdm\n",
    "import os\n",
    "import sys\n",
    "sys.path.append('../src/')"
   ]
  },
  {
   "cell_type": "code",
   "execution_count": 16,
   "metadata": {},
   "outputs": [
    {
     "data": {
      "text/plain": [
       "<module 'linear_var_hypernet' from '../src/linear_var_hypernet.py'>"
      ]
     },
     "execution_count": 16,
     "metadata": {},
     "output_type": "execute_result"
    }
   ],
   "source": [
    "import importlib \n",
    "import linear_var_hypernet as linear_var_hypernet\n",
    "import var_net as var_net\n",
    "import mnist_utils as utils\n",
    "importlib.reload(utils)\n",
    "importlib.reload(var_net)\n",
    "importlib.reload(linear_var_hypernet)\n",
    "\n"
   ]
  },
  {
   "cell_type": "code",
   "execution_count": 10,
   "metadata": {},
   "outputs": [],
   "source": [
    "device = 'cuda' # cuda or cpu\n",
    "device = t.device(device)\n",
    "if device == 'cuda':\n",
    "    t.backends.cudnn.deterministic = True\n",
    "    t.backends.cudnn.benchmark = False"
   ]
  },
  {
   "cell_type": "code",
   "execution_count": 6,
   "metadata": {},
   "outputs": [],
   "source": [
    "batch_size = 256\n",
    "init_log_sigma = -3.0 # логарифм дисперсии вариационного распределения при инициализации\n",
    "prior_sigma = .1 # априорная дисперсия\n",
    "epoch_num = 25 #количество эпох\n",
    "lamb = [0.01, 0.1, 1.0,  10.0, 100.0]\n",
    "lamb = [t.tensor(l) for l in lamb]\n",
    "hidden_num = 50 # количество нейронов на скрытом слое\n",
    "acc_delete = [] \n",
    "start_num = 5\n",
    "path_to_save = 'saved_mnist'\n",
    "lambda_sample_num = 5\n",
    "lambda_encode = t.log \n",
    "\n",
    "if not os.path.exists(path_to_save):\n",
    "    os.mkdir(path_to_save)"
   ]
  },
  {
   "cell_type": "code",
   "execution_count": 7,
   "metadata": {},
   "outputs": [],
   "source": [
    "# загрузка данных\n",
    "train_data = torchvision.datasets.MNIST('./files/', train=True, download=True,\n",
    "                             transform = transforms.Compose([transforms.ToTensor(),\n",
    "                              transforms.Normalize((0.5,), (0.5,)),\n",
    "                                  torchvision.transforms.Lambda(lambda x: x.view(-1))\n",
    "                              ]))\n",
    "\n",
    "test_data = torchvision.datasets.MNIST('./files/', train=False, download=True,\n",
    "                             transform = transforms.Compose([transforms.ToTensor(),\n",
    "                              transforms.Normalize((0.5,), (0.5,)),\n",
    "                                  torchvision.transforms.Lambda(lambda x: x.view(-1))\n",
    "                              ]))\n",
    "\n",
    "\n",
    "train_loader = t.utils.data.DataLoader(train_data, batch_size=batch_size, pin_memory=True )\n",
    "test_loader = t.utils.data.DataLoader(test_data, batch_size=batch_size)\n",
    "\n",
    "\n",
    "\n"
   ]
  },
  {
   "cell_type": "code",
   "execution_count": 17,
   "metadata": {},
   "outputs": [
    {
     "name": "stderr",
     "output_type": "stream",
     "text": [
      "epoch 0: 16.275837: 100%|██████████| 235/235 [00:23<00:00, 10.03it/s]\n",
      "epoch 1: 9.181097:   1%|          | 2/235 [00:00<00:17, 13.52it/s]"
     ]
    },
    {
     "name": "stdout",
     "output_type": "stream",
     "text": [
      "{tensor(0.0100): 0.7915, tensor(0.1000): 0.7663, tensor(1.): 0.478, tensor(10.): 0.8247, tensor(100.): 0.8446}\n"
     ]
    },
    {
     "name": "stderr",
     "output_type": "stream",
     "text": [
      "epoch 1: 8.8745365: 100%|██████████| 235/235 [00:22<00:00, 10.57it/s]\n",
      "epoch 2: 6.3119497: 100%|██████████| 235/235 [00:21<00:00, 10.74it/s]\n",
      "epoch 3: 4.471305: 100%|██████████| 235/235 [00:21<00:00, 10.89it/s] \n",
      "epoch 4: 3.7436237: 100%|██████████| 235/235 [00:21<00:00, 10.91it/s]\n",
      "epoch 5: 3.0516744: 100%|██████████| 235/235 [00:21<00:00, 10.88it/s]\n",
      "epoch 6: 0.64422023:   1%|          | 2/235 [00:00<00:19, 12.06it/s]"
     ]
    },
    {
     "name": "stdout",
     "output_type": "stream",
     "text": [
      "{tensor(0.0100): 0.9233, tensor(0.1000): 0.9282, tensor(1.): 0.9135, tensor(10.): 0.8938, tensor(100.): 0.8778}\n"
     ]
    },
    {
     "name": "stderr",
     "output_type": "stream",
     "text": [
      "epoch 6: 2.2541888: 100%|██████████| 235/235 [00:20<00:00, 11.31it/s]\n",
      "epoch 7: 1.9676596: 100%|██████████| 235/235 [00:16<00:00, 13.83it/s]\n",
      "epoch 8: 1.5995289: 100%|██████████| 235/235 [00:18<00:00, 12.43it/s]\n",
      "epoch 9: 1.4385077: 100%|██████████| 235/235 [00:21<00:00, 10.92it/s]\n",
      "epoch 10: 1.3072813: 100%|██████████| 235/235 [00:21<00:00, 10.72it/s]\n",
      "epoch 11: 0.74031484:   1%|          | 2/235 [00:00<00:18, 12.52it/s]"
     ]
    },
    {
     "name": "stdout",
     "output_type": "stream",
     "text": [
      "{tensor(0.0100): 0.9468, tensor(0.1000): 0.9479, tensor(1.): 0.9384, tensor(10.): 0.902, tensor(100.): 0.8738}\n"
     ]
    },
    {
     "name": "stderr",
     "output_type": "stream",
     "text": [
      "epoch 11: 1.0603564: 100%|██████████| 235/235 [00:22<00:00, 10.64it/s]\n",
      "epoch 12: 0.9024503: 100%|██████████| 235/235 [00:21<00:00, 11.11it/s] \n",
      "epoch 13: 0.7750958: 100%|██████████| 235/235 [00:22<00:00, 10.60it/s] \n",
      "epoch 14: 0.72550166: 100%|██████████| 235/235 [00:21<00:00, 10.83it/s]\n",
      "epoch 15: 0.67440933: 100%|██████████| 235/235 [00:22<00:00, 10.56it/s]\n",
      "epoch 16: 0.58751506:   1%|          | 2/235 [00:00<00:21, 10.84it/s]"
     ]
    },
    {
     "name": "stdout",
     "output_type": "stream",
     "text": [
      "{tensor(0.0100): 0.9561, tensor(0.1000): 0.956, tensor(1.): 0.9461, tensor(10.): 0.9097, tensor(100.): 0.8474}\n"
     ]
    },
    {
     "name": "stderr",
     "output_type": "stream",
     "text": [
      "epoch 16: 0.5963141: 100%|██████████| 235/235 [00:22<00:00, 10.63it/s] \n",
      "epoch 17: 0.5496274: 100%|██████████| 235/235 [00:22<00:00, 10.56it/s] \n",
      "epoch 18: 0.54086286: 100%|██████████| 235/235 [00:22<00:00, 10.63it/s]\n",
      "epoch 19: 0.5085704: 100%|██████████| 235/235 [00:21<00:00, 10.88it/s] \n",
      "epoch 20: 0.47822142: 100%|██████████| 235/235 [00:21<00:00, 10.84it/s]\n",
      "epoch 21: 0.42669374:   1%|          | 2/235 [00:00<00:18, 12.36it/s]"
     ]
    },
    {
     "name": "stdout",
     "output_type": "stream",
     "text": [
      "{tensor(0.0100): 0.9598, tensor(0.1000): 0.962, tensor(1.): 0.9525, tensor(10.): 0.9106, tensor(100.): 0.8427}\n"
     ]
    },
    {
     "name": "stderr",
     "output_type": "stream",
     "text": [
      "epoch 21: 0.46369645: 100%|██████████| 235/235 [00:21<00:00, 10.95it/s]\n",
      "epoch 22: 0.42314535: 100%|██████████| 235/235 [00:21<00:00, 10.77it/s]\n",
      "epoch 23: 0.42422184: 100%|██████████| 235/235 [00:22<00:00, 10.55it/s]\n",
      "epoch 24: 0.40636116: 100%|██████████| 235/235 [00:21<00:00, 10.90it/s]\n",
      "epoch 0: 16.984264: 100%|██████████| 235/235 [00:23<00:00, 10.19it/s]\n",
      "epoch 1: 10.113204:   1%|          | 2/235 [00:00<00:17, 13.09it/s]"
     ]
    },
    {
     "name": "stdout",
     "output_type": "stream",
     "text": [
      "{tensor(0.0100): 0.7934, tensor(0.1000): 0.7512, tensor(1.): 0.4209, tensor(10.): 0.8234, tensor(100.): 0.8398}\n"
     ]
    },
    {
     "name": "stderr",
     "output_type": "stream",
     "text": [
      "epoch 1: 8.478976: 100%|██████████| 235/235 [00:21<00:00, 10.88it/s] \n",
      "epoch 2: 6.316783: 100%|██████████| 235/235 [00:21<00:00, 11.06it/s] \n",
      "epoch 3: 3.9168904: 100%|██████████| 235/235 [00:21<00:00, 10.91it/s]\n",
      "epoch 4: 3.0601928: 100%|██████████| 235/235 [00:21<00:00, 10.96it/s]\n",
      "epoch 5: 2.61458: 100%|██████████| 235/235 [00:21<00:00, 11.16it/s]  \n",
      "epoch 6: 1.7932684:   1%|          | 2/235 [00:00<00:21, 10.97it/s]"
     ]
    },
    {
     "name": "stdout",
     "output_type": "stream",
     "text": [
      "{tensor(0.0100): 0.9138, tensor(0.1000): 0.9173, tensor(1.): 0.9083, tensor(10.): 0.8864, tensor(100.): 0.894}\n"
     ]
    },
    {
     "name": "stderr",
     "output_type": "stream",
     "text": [
      "epoch 6: 1.9868912: 100%|██████████| 235/235 [00:21<00:00, 10.87it/s]\n",
      "epoch 7: 1.7861477: 100%|██████████| 235/235 [00:21<00:00, 10.76it/s]\n",
      "epoch 8: 1.3475304: 100%|██████████| 235/235 [00:21<00:00, 10.94it/s]\n",
      "epoch 9: 1.2307926: 100%|██████████| 235/235 [00:21<00:00, 10.94it/s]\n",
      "epoch 10: 1.0684527: 100%|██████████| 235/235 [00:22<00:00, 10.58it/s]\n",
      "epoch 11: 1.2458459:   0%|          | 0/235 [00:00<?, ?it/s]"
     ]
    },
    {
     "name": "stdout",
     "output_type": "stream",
     "text": [
      "{tensor(0.0100): 0.942, tensor(0.1000): 0.9405, tensor(1.): 0.9323, tensor(10.): 0.9116, tensor(100.): 0.8691}\n"
     ]
    },
    {
     "name": "stderr",
     "output_type": "stream",
     "text": [
      "epoch 11: 0.9093528: 100%|██████████| 235/235 [00:20<00:00, 11.25it/s] \n",
      "epoch 12: 0.8155347: 100%|██████████| 235/235 [00:21<00:00, 10.71it/s] \n",
      "epoch 13: 0.7133217: 100%|██████████| 235/235 [00:21<00:00, 10.79it/s] \n",
      "epoch 14: 0.67196316: 100%|██████████| 235/235 [00:22<00:00, 10.64it/s]\n",
      "epoch 15: 0.63936895: 100%|██████████| 235/235 [00:21<00:00, 10.70it/s]\n",
      "epoch 16: 0.62039655:   1%|          | 2/235 [00:00<00:20, 11.30it/s]"
     ]
    },
    {
     "name": "stdout",
     "output_type": "stream",
     "text": [
      "{tensor(0.0100): 0.9544, tensor(0.1000): 0.9534, tensor(1.): 0.9429, tensor(10.): 0.9114, tensor(100.): 0.8515}\n"
     ]
    },
    {
     "name": "stderr",
     "output_type": "stream",
     "text": [
      "epoch 16: 0.5976504: 100%|██████████| 235/235 [00:21<00:00, 11.05it/s] \n",
      "epoch 17: 0.5638214: 100%|██████████| 235/235 [00:21<00:00, 10.97it/s] \n",
      "epoch 18: 0.5348272: 100%|██████████| 235/235 [00:22<00:00, 10.41it/s] \n",
      "epoch 19: 0.52328485: 100%|██████████| 235/235 [00:21<00:00, 10.75it/s]\n",
      "epoch 20: 0.4931296: 100%|██████████| 235/235 [00:22<00:00, 10.67it/s] \n",
      "epoch 21: 0.46646422:   1%|          | 2/235 [00:00<00:18, 12.57it/s]"
     ]
    },
    {
     "name": "stdout",
     "output_type": "stream",
     "text": [
      "{tensor(0.0100): 0.9442, tensor(0.1000): 0.9541, tensor(1.): 0.9502, tensor(10.): 0.9189, tensor(100.): 0.8376}\n"
     ]
    },
    {
     "name": "stderr",
     "output_type": "stream",
     "text": [
      "epoch 21: 0.46383712: 100%|██████████| 235/235 [00:21<00:00, 10.97it/s]\n",
      "epoch 22: 0.4439287: 100%|██████████| 235/235 [00:21<00:00, 10.94it/s] \n",
      "epoch 23: 0.42488194: 100%|██████████| 235/235 [00:21<00:00, 11.12it/s]\n",
      "epoch 24: 0.41909945: 100%|██████████| 235/235 [00:21<00:00, 10.90it/s]\n",
      "epoch 0: 14.801735: 100%|██████████| 235/235 [00:23<00:00, 10.02it/s] \n",
      "epoch 1: 12.702103:   1%|          | 2/235 [00:00<00:15, 14.87it/s]"
     ]
    },
    {
     "name": "stdout",
     "output_type": "stream",
     "text": [
      "{tensor(0.0100): 0.6277, tensor(0.1000): 0.6105, tensor(1.): 0.4079, tensor(10.): 0.8172, tensor(100.): 0.8445}\n"
     ]
    },
    {
     "name": "stderr",
     "output_type": "stream",
     "text": [
      "epoch 1: 9.315265: 100%|██████████| 235/235 [00:21<00:00, 10.71it/s]  \n",
      "epoch 2: 6.701781: 100%|██████████| 235/235 [00:21<00:00, 11.17it/s] \n",
      "epoch 3: 4.2507763: 100%|██████████| 235/235 [00:21<00:00, 10.75it/s]\n",
      "epoch 4: 3.5745833: 100%|██████████| 235/235 [00:21<00:00, 10.75it/s]\n",
      "epoch 5: 2.9967396: 100%|██████████| 235/235 [00:22<00:00, 10.51it/s]\n",
      "epoch 6: 1.8878071:   1%|          | 2/235 [00:00<00:21, 11.07it/s]"
     ]
    },
    {
     "name": "stdout",
     "output_type": "stream",
     "text": [
      "{tensor(0.0100): 0.9195, tensor(0.1000): 0.9193, tensor(1.): 0.899, tensor(10.): 0.8877, tensor(100.): 0.8447}\n"
     ]
    },
    {
     "name": "stderr",
     "output_type": "stream",
     "text": [
      "epoch 6: 2.1873584: 100%|██████████| 235/235 [00:21<00:00, 10.90it/s]\n",
      "epoch 7: 1.8340392: 100%|██████████| 235/235 [00:21<00:00, 10.81it/s]\n",
      "epoch 8: 1.4913448: 100%|██████████| 235/235 [00:21<00:00, 10.88it/s]\n",
      "epoch 9: 1.4649601: 100%|██████████| 235/235 [00:21<00:00, 10.79it/s]\n",
      "epoch 10: 1.1165087: 100%|██████████| 235/235 [00:21<00:00, 11.15it/s]\n",
      "epoch 11: 2.1555772:   1%|          | 2/235 [00:00<00:20, 11.34it/s]"
     ]
    },
    {
     "name": "stdout",
     "output_type": "stream",
     "text": [
      "{tensor(0.0100): 0.9405, tensor(0.1000): 0.9403, tensor(1.): 0.9312, tensor(10.): 0.9039, tensor(100.): 0.8606}\n"
     ]
    },
    {
     "name": "stderr",
     "output_type": "stream",
     "text": [
      "epoch 11: 1.0010929: 100%|██████████| 235/235 [00:21<00:00, 10.79it/s] \n",
      "epoch 12: 0.9038174: 100%|██████████| 235/235 [00:21<00:00, 10.84it/s] \n",
      "epoch 13: 0.82105297: 100%|██████████| 235/235 [00:22<00:00, 10.48it/s]\n",
      "epoch 14: 0.7052663: 100%|██████████| 235/235 [00:21<00:00, 10.82it/s] \n",
      "epoch 15: 0.6658664: 100%|██████████| 235/235 [00:21<00:00, 10.69it/s] \n",
      "epoch 16: 0.7294727:   1%|          | 2/235 [00:00<00:13, 16.77it/s] "
     ]
    },
    {
     "name": "stdout",
     "output_type": "stream",
     "text": [
      "{tensor(0.0100): 0.9517, tensor(0.1000): 0.9528, tensor(1.): 0.9447, tensor(10.): 0.9052, tensor(100.): 0.7615}\n"
     ]
    },
    {
     "name": "stderr",
     "output_type": "stream",
     "text": [
      "epoch 16: 0.62411976: 100%|██████████| 235/235 [00:21<00:00, 10.90it/s]\n",
      "epoch 17: 0.5559191: 100%|██████████| 235/235 [00:22<00:00, 10.66it/s] \n",
      "epoch 18: 0.5534832: 100%|██████████| 235/235 [00:22<00:00, 10.62it/s] \n",
      "epoch 19: 0.53302383: 100%|██████████| 235/235 [00:22<00:00, 10.66it/s]\n",
      "epoch 20: 0.49487618: 100%|██████████| 235/235 [00:21<00:00, 11.01it/s]\n",
      "epoch 21: 0.61307395:   0%|          | 0/235 [00:00<?, ?it/s]"
     ]
    },
    {
     "name": "stdout",
     "output_type": "stream",
     "text": [
      "{tensor(0.0100): 0.9523, tensor(0.1000): 0.9562, tensor(1.): 0.9501, tensor(10.): 0.9117, tensor(100.): 0.8254}\n"
     ]
    },
    {
     "name": "stderr",
     "output_type": "stream",
     "text": [
      "epoch 21: 0.4851776: 100%|██████████| 235/235 [00:21<00:00, 10.77it/s] \n",
      "epoch 22: 0.47403187: 100%|██████████| 235/235 [00:21<00:00, 10.87it/s]\n",
      "epoch 23: 0.4340496: 100%|██████████| 235/235 [00:22<00:00, 10.68it/s] \n",
      "epoch 24: 0.4109684: 100%|██████████| 235/235 [00:21<00:00, 10.73it/s] \n",
      "epoch 0: 14.469381: 100%|██████████| 235/235 [00:22<00:00, 10.33it/s] \n",
      "epoch 1: 11.503836:   0%|          | 1/235 [00:00<00:27,  8.40it/s]"
     ]
    },
    {
     "name": "stdout",
     "output_type": "stream",
     "text": [
      "{tensor(0.0100): 0.7838, tensor(0.1000): 0.7415, tensor(1.): 0.4298, tensor(10.): 0.7676, tensor(100.): 0.7748}\n"
     ]
    },
    {
     "name": "stderr",
     "output_type": "stream",
     "text": [
      "epoch 1: 9.599708: 100%|██████████| 235/235 [00:21<00:00, 10.94it/s]  \n",
      "epoch 2: 5.9866223: 100%|██████████| 235/235 [00:21<00:00, 10.72it/s]\n",
      "epoch 3: 4.2919865: 100%|██████████| 235/235 [00:21<00:00, 10.69it/s]\n",
      "epoch 4: 3.4691012: 100%|██████████| 235/235 [00:21<00:00, 10.83it/s]\n",
      "epoch 5: 2.7539582: 100%|██████████| 235/235 [00:21<00:00, 10.91it/s]\n",
      "epoch 6: 1.0608393:   0%|          | 0/235 [00:00<?, ?it/s]"
     ]
    },
    {
     "name": "stdout",
     "output_type": "stream",
     "text": [
      "{tensor(0.0100): 0.9223, tensor(0.1000): 0.9231, tensor(1.): 0.907, tensor(10.): 0.8951, tensor(100.): 0.8753}\n"
     ]
    },
    {
     "name": "stderr",
     "output_type": "stream",
     "text": [
      "epoch 6: 2.2130353: 100%|██████████| 235/235 [00:21<00:00, 10.93it/s]\n",
      "epoch 7: 1.854243: 100%|██████████| 235/235 [00:21<00:00, 10.81it/s] \n",
      "epoch 8: 1.4902588: 100%|██████████| 235/235 [00:22<00:00, 10.67it/s]\n",
      "epoch 9: 1.2498338: 100%|██████████| 235/235 [00:21<00:00, 10.83it/s]\n",
      "epoch 10: 1.003911: 100%|██████████| 235/235 [00:22<00:00, 10.63it/s]  \n",
      "epoch 11: 1.4297354:   1%|          | 2/235 [00:00<00:20, 11.35it/s]"
     ]
    },
    {
     "name": "stdout",
     "output_type": "stream",
     "text": [
      "{tensor(0.0100): 0.9428, tensor(0.1000): 0.9453, tensor(1.): 0.9367, tensor(10.): 0.9021, tensor(100.): 0.8308}\n"
     ]
    },
    {
     "name": "stderr",
     "output_type": "stream",
     "text": [
      "epoch 11: 0.92547625: 100%|██████████| 235/235 [00:22<00:00, 10.59it/s]\n",
      "epoch 12: 0.82186997: 100%|██████████| 235/235 [00:21<00:00, 10.93it/s]\n",
      "epoch 13: 0.7611355: 100%|██████████| 235/235 [00:22<00:00, 10.67it/s] \n",
      "epoch 14: 0.66963285: 100%|██████████| 235/235 [00:22<00:00, 10.67it/s]\n",
      "epoch 15: 0.64429706: 100%|██████████| 235/235 [00:21<00:00, 10.84it/s]\n",
      "epoch 16: 0.571956:   1%|          | 2/235 [00:00<00:22, 10.19it/s]"
     ]
    },
    {
     "name": "stdout",
     "output_type": "stream",
     "text": [
      "{tensor(0.0100): 0.9509, tensor(0.1000): 0.9536, tensor(1.): 0.947, tensor(10.): 0.9156, tensor(100.): 0.8165}\n"
     ]
    },
    {
     "name": "stderr",
     "output_type": "stream",
     "text": [
      "epoch 16: 0.61179155: 100%|██████████| 235/235 [00:20<00:00, 11.20it/s]\n",
      "epoch 17: 0.5686496: 100%|██████████| 235/235 [00:22<00:00, 10.50it/s] \n",
      "epoch 18: 0.5351619: 100%|██████████| 235/235 [00:21<00:00, 10.81it/s] \n",
      "epoch 19: 0.5162925: 100%|██████████| 235/235 [00:21<00:00, 10.84it/s] \n",
      "epoch 20: 0.4673863: 100%|██████████| 235/235 [00:22<00:00, 10.56it/s] \n",
      "epoch 21: 0.46946073:   1%|          | 2/235 [00:00<00:19, 12.16it/s]"
     ]
    },
    {
     "name": "stdout",
     "output_type": "stream",
     "text": [
      "{tensor(0.0100): 0.9556, tensor(0.1000): 0.9596, tensor(1.): 0.9539, tensor(10.): 0.9128, tensor(100.): 0.7707}\n"
     ]
    },
    {
     "name": "stderr",
     "output_type": "stream",
     "text": [
      "epoch 21: 0.4662317: 100%|██████████| 235/235 [00:21<00:00, 10.77it/s] \n",
      "epoch 22: 0.45249876: 100%|██████████| 235/235 [00:21<00:00, 10.95it/s]\n",
      "epoch 23: 0.43382475: 100%|██████████| 235/235 [00:21<00:00, 11.06it/s]\n",
      "epoch 24: 0.3934308: 100%|██████████| 235/235 [00:20<00:00, 11.24it/s] \n",
      "epoch 0: 16.204287: 100%|██████████| 235/235 [00:22<00:00, 10.38it/s]\n",
      "epoch 1: 21.751534:   1%|          | 2/235 [00:00<00:21, 11.06it/s]"
     ]
    },
    {
     "name": "stdout",
     "output_type": "stream",
     "text": [
      "{tensor(0.0100): 0.796, tensor(0.1000): 0.7552, tensor(1.): 0.4666, tensor(10.): 0.7773, tensor(100.): 0.8014}\n"
     ]
    },
    {
     "name": "stderr",
     "output_type": "stream",
     "text": [
      "epoch 1: 10.134508: 100%|██████████| 235/235 [00:21<00:00, 11.03it/s] \n",
      "epoch 2: 7.1553235: 100%|██████████| 235/235 [00:21<00:00, 11.11it/s]\n",
      "epoch 3: 4.0025907: 100%|██████████| 235/235 [00:21<00:00, 11.00it/s]\n",
      "epoch 4: 3.4322488: 100%|██████████| 235/235 [00:22<00:00, 10.62it/s]\n",
      "epoch 5: 2.6276405: 100%|██████████| 235/235 [00:21<00:00, 10.72it/s]\n",
      "epoch 6: 3.7512112:   1%|          | 2/235 [00:00<00:18, 12.90it/s]"
     ]
    },
    {
     "name": "stdout",
     "output_type": "stream",
     "text": [
      "{tensor(0.0100): 0.9239, tensor(0.1000): 0.9255, tensor(1.): 0.9139, tensor(10.): 0.8943, tensor(100.): 0.8895}\n"
     ]
    },
    {
     "name": "stderr",
     "output_type": "stream",
     "text": [
      "epoch 6: 2.1958747: 100%|██████████| 235/235 [00:21<00:00, 10.96it/s]\n",
      "epoch 7: 1.9242214: 100%|██████████| 235/235 [00:20<00:00, 11.22it/s]\n",
      "epoch 8: 1.6000439: 100%|██████████| 235/235 [00:22<00:00, 10.62it/s]\n",
      "epoch 9: 1.383414: 100%|██████████| 235/235 [00:21<00:00, 11.03it/s] \n",
      "epoch 10: 1.1226033: 100%|██████████| 235/235 [00:21<00:00, 10.77it/s]\n",
      "epoch 11: 1.3670237:   1%|          | 2/235 [00:00<00:22, 10.48it/s]"
     ]
    },
    {
     "name": "stdout",
     "output_type": "stream",
     "text": [
      "{tensor(0.0100): 0.9462, tensor(0.1000): 0.9461, tensor(1.): 0.9342, tensor(10.): 0.8981, tensor(100.): 0.8643}\n"
     ]
    },
    {
     "name": "stderr",
     "output_type": "stream",
     "text": [
      "epoch 11: 1.0466499: 100%|██████████| 235/235 [00:21<00:00, 11.02it/s]\n",
      "epoch 12: 0.92799306: 100%|██████████| 235/235 [00:22<00:00, 10.50it/s]\n",
      "epoch 13: 0.80480605: 100%|██████████| 235/235 [00:21<00:00, 11.03it/s]\n",
      "epoch 14: 0.7388965: 100%|██████████| 235/235 [00:21<00:00, 10.82it/s] \n",
      "epoch 15: 0.63269347: 100%|██████████| 235/235 [00:21<00:00, 10.79it/s]\n",
      "epoch 16: 0.7672189:   1%|          | 2/235 [00:00<00:20, 11.35it/s]"
     ]
    },
    {
     "name": "stdout",
     "output_type": "stream",
     "text": [
      "{tensor(0.0100): 0.9533, tensor(0.1000): 0.954, tensor(1.): 0.9449, tensor(10.): 0.9076, tensor(100.): 0.8011}\n"
     ]
    },
    {
     "name": "stderr",
     "output_type": "stream",
     "text": [
      "epoch 16: 0.60879326: 100%|██████████| 235/235 [00:20<00:00, 11.41it/s]\n",
      "epoch 17: 0.574113: 100%|██████████| 235/235 [00:21<00:00, 10.79it/s]  \n",
      "epoch 18: 0.51212865: 100%|██████████| 235/235 [00:22<00:00, 10.63it/s]\n",
      "epoch 19: 0.5019506: 100%|██████████| 235/235 [00:21<00:00, 10.75it/s] \n",
      "epoch 20: 0.48743382: 100%|██████████| 235/235 [00:21<00:00, 10.71it/s]\n",
      "epoch 21: 0.4518984:   0%|          | 0/235 [00:00<?, ?it/s]"
     ]
    },
    {
     "name": "stdout",
     "output_type": "stream",
     "text": [
      "{tensor(0.0100): 0.9582, tensor(0.1000): 0.9572, tensor(1.): 0.95, tensor(10.): 0.9168, tensor(100.): 0.7765}\n"
     ]
    },
    {
     "name": "stderr",
     "output_type": "stream",
     "text": [
      "epoch 21: 0.47843388: 100%|██████████| 235/235 [00:22<00:00, 10.48it/s]\n",
      "epoch 22: 0.44174477: 100%|██████████| 235/235 [00:21<00:00, 10.98it/s]\n",
      "epoch 23: 0.4308755: 100%|██████████| 235/235 [00:21<00:00, 10.92it/s] \n",
      "epoch 24: 0.3886636: 100%|██████████| 235/235 [00:21<00:00, 10.90it/s] \n"
     ]
    }
   ],
   "source": [
    "t.manual_seed(0)\n",
    "\n",
    "for start in range(start_num):                    \n",
    "        net = var_net.VarNet(linear_var_hypernet.VarLayerLinearAppr(784,  hidden_num, prior_sigma=prior_sigma, init_log_sigma=init_log_sigma),\n",
    "                     linear_var_hypernet.VarLayerLinearAppr(hidden_num, 10,  prior_sigma=prior_sigma, act=lambda x:x, init_log_sigma=init_log_sigma))\n",
    "\n",
    "        net = net.to(device)\n",
    "        optim = t.optim.Adam(net.parameters(), lr=5e-4)\n",
    "        loss_fn = nn.CrossEntropyLoss().to(device)            \n",
    "        for e in range(epoch_num):\n",
    "            label = 'epoch {}: '.format(e)                \n",
    "            utils.train_batches_hypernet(train_loader,  len(train_data), lambda_sample_num,\n",
    "                  lambda_encode, net, device, loss_fn, optim, label, rep=True)\n",
    "            if e%5 == 0:\n",
    "                print (utils.test_acc_hyper(net, device, test_loader, lambda_encode, lamb))\n",
    "        t.save(net.state_dict(), os.path.join(path_to_save, 'rep_linear_start_{}.cpk'.format(start)))"
   ]
  },
  {
   "cell_type": "code",
   "execution_count": 18,
   "metadata": {},
   "outputs": [
    {
     "name": "stderr",
     "output_type": "stream",
     "text": [
      "../src/var_net.py:9: UserWarning: nn.init.xavier_uniform is now deprecated in favor of nn.init.xavier_uniform_.\n",
      "  t.nn.init.xavier_uniform(self.mean)\n"
     ]
    },
    {
     "name": "stdout",
     "output_type": "stream",
     "text": [
      "tensor(0.0100) 0\n",
      "tensor(0.0100) 1\n",
      "tensor(0.0100) 2\n",
      "tensor(0.0100) 3\n",
      "tensor(0.0100) 4\n",
      "tensor(0.1000) 0\n",
      "tensor(0.1000) 1\n",
      "tensor(0.1000) 2\n",
      "tensor(0.1000) 3\n",
      "tensor(0.1000) 4\n",
      "tensor(1.) 0\n",
      "tensor(1.) 1\n",
      "tensor(1.) 2\n",
      "tensor(1.) 3\n",
      "tensor(1.) 4\n",
      "tensor(10.) 0\n",
      "tensor(10.) 1\n",
      "tensor(10.) 2\n",
      "tensor(10.) 3\n",
      "tensor(10.) 4\n",
      "tensor(100.) 0\n",
      "tensor(100.) 1\n",
      "tensor(100.) 2\n",
      "tensor(100.) 3\n",
      "tensor(100.) 4\n"
     ]
    }
   ],
   "source": [
    "net = var_net.VarNet(var_net.VarLayer(784,  hidden_num, \n",
    "                                            prior_sigma = prior_sigma, init_log_sigma=init_log_sigma), \n",
    "                                 var_net.VarLayer(hidden_num, 10, prior_sigma=prior_sigma,  init_log_sigma=init_log_sigma,\n",
    "                                          act=lambda x:x)).to(device)    \n",
    "hnet = var_net.VarNet(linear_var_hypernet.VarLayerLinearAppr(784,  hidden_num, prior_sigma=prior_sigma, init_log_sigma=init_log_sigma),\n",
    "                     linear_var_hypernet.VarLayerLinearAppr(hidden_num, 10,  prior_sigma=prior_sigma, act=lambda x:x, init_log_sigma=init_log_sigma))\n",
    "\n",
    "hnet = hnet.to(device)\n",
    "net = net.to(device)\n",
    "lam_results = {}\n",
    "for lam in lamb:\n",
    "    lam_results[lam] = []\n",
    "    for s in range(start_num):        \n",
    "        print (lam, s)\n",
    "        hnet.load_state_dict(t.load(os.path.join(path_to_save, 'rep_linear_start_{}.cpk'.format(s))))        \n",
    "        utils.net_copy(hnet, net, lambda_encode(t.ones(1).to(device)[0]*lam))\n",
    "        lam_results[lam].append(utils.delete_10(net, device, lambda:utils.test_acc_net(net, device, test_loader)))\n",
    "lam_results = {float(k):lam_results[k] for k in lam_results}\n",
    "import json\n",
    "with open(os.path.join(path_to_save, 'results_rep_linear.json'),'w') as out:\n",
    "    out.write(json.dumps(lam_results))  "
   ]
  },
  {
   "cell_type": "code",
   "execution_count": 19,
   "metadata": {},
   "outputs": [
    {
     "data": {
      "image/png": "[encoded data removed]",
      "text/plain": [
       "<Figure size 864x864 with 1 Axes>"
      ]
     },
     "metadata": {
      "needs_background": "light"
     },
     "output_type": "display_data"
    }
   ],
   "source": [
    "proc = [0,10,20,30,40,50,60,70,80,90]\n",
    "plt.rcParams['figure.figsize'] = 12, 12\n",
    "plt.rcParams.update({'font.size': 27})\n",
    "plt.rc('lines', linewidth=4)\n",
    "    \n",
    "    \n",
    "for lam in lamb:\n",
    "    lam = float(lam)\n",
    "    lam_str = \"{:10.2f}\".format(lam)\n",
    "\n",
    "    plt.fill_between(proc, np.min(lam_results[lam], 0), np.max(lam_results[lam], 0), alpha=0.2)\n",
    "    plt.plot(proc, np.mean(lam_results[lam], 0), label='$\\lambda={}$'.format(lam_str))\n",
    "plt.ylabel('Точность классификации', fontsize = 27)\n",
    "plt.xlabel('Процент удаления', fontsize = 27)\n",
    "plt.tick_params(axis='both', which='major', labelsize=27)\n",
    "plt.legend(loc='lower left')\n",
    "plt.autoscale(enable=True, axis='x', tight=True)\n",
    "plt.savefig('Linear_rep')\n",
    "#plt.show()\n"
   ]
  }
 ],
 "metadata": {
  "kernelspec": {
   "display_name": "Python 3",
   "language": "python",
   "name": "python3"
  },
  "language_info": {
   "codemirror_mode": {
    "name": "ipython",
    "version": 3
   },
   "file_extension": ".py",
   "mimetype": "text/x-python",
   "name": "python",
   "nbconvert_exporter": "python",
   "pygments_lexer": "ipython3",
   "version": "3.7.3"
  }
 },
 "nbformat": 4,
 "nbformat_minor": 2
}
