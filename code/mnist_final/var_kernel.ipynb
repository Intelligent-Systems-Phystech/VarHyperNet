{
 "cells": [
  {
   "cell_type": "code",
   "execution_count": 18,
   "metadata": {},
   "outputs": [],
   "source": [
    "import torch as t \n",
    "import torchvision\n",
    "import numpy as np\n",
    "import torch.nn as nn\n",
    "import torch.nn.functional as F\n",
    "import torch.optim as optim\n",
    "import matplotlib.pylab as plt\n",
    "from torch.nn.utils import clip_grad_value_\n",
    "%matplotlib inline\n",
    "import pickle\n",
    "from torchvision import datasets, transforms\n",
    "import tqdm\n",
    "import os\n",
    "import sys\n",
    "sys.path.append('../src/')"
   ]
  },
  {
   "cell_type": "code",
   "execution_count": 19,
   "metadata": {},
   "outputs": [
    {
     "data": {
      "text/plain": [
       "<module 'kernel_hypernet' from '../src/kernel_hypernet.py'>"
      ]
     },
     "execution_count": 19,
     "metadata": {},
     "output_type": "execute_result"
    }
   ],
   "source": [
    "import importlib \n",
    "import kernel_hypernet as kernel_hypernet\n",
    "import var_net as var_net\n",
    "import mnist_utils as utils\n",
    "importlib.reload(utils)\n",
    "importlib.reload(var_net)\n",
    "importlib.reload(kernel_hypernet)\n",
    "\n"
   ]
  },
  {
   "cell_type": "code",
   "execution_count": 6,
   "metadata": {},
   "outputs": [],
   "source": [
    "device = 'cuda' # cuda or cpu\n",
    "device = t.device(device)\n",
    "if device == 'cuda':\n",
    "    t.backends.cudnn.deterministic = True\n",
    "    t.backends.cudnn.benchmark = False"
   ]
  },
  {
   "cell_type": "code",
   "execution_count": 7,
   "metadata": {},
   "outputs": [],
   "source": [
    "batch_size = 256\n",
    "init_log_sigma = -3.0 # логарифм дисперсии вариационного распределения при инициализации\n",
    "prior_sigma = .1 # априорная дисперсия\n",
    "epoch_num = 25 #количество эпох\n",
    "lamb = [0.01, 0.1, 1.0,  10.0, 100.0]\n",
    "lamb = [t.tensor(l) for l in lamb]\n",
    "hidden_num = 50 # количество нейронов на скрытом слое\n",
    "acc_delete = [] \n",
    "start_num = 5\n",
    "path_to_save = 'saved_mnist'\n",
    "lambda_sample_num = 5\n",
    "lambda_encode = t.log \n",
    "\n",
    "if not os.path.exists(path_to_save):\n",
    "    os.mkdir(path_to_save)"
   ]
  },
  {
   "cell_type": "code",
   "execution_count": 8,
   "metadata": {},
   "outputs": [],
   "source": [
    "# загрузка данных\n",
    "train_data = torchvision.datasets.MNIST('./files/', train=True, download=True,\n",
    "                             transform = transforms.Compose([transforms.ToTensor(),\n",
    "                              transforms.Normalize((0.5,), (0.5,)),\n",
    "                                  torchvision.transforms.Lambda(lambda x: x.view(-1))\n",
    "                              ]))\n",
    "\n",
    "test_data = torchvision.datasets.MNIST('./files/', train=False, download=True,\n",
    "                             transform = transforms.Compose([transforms.ToTensor(),\n",
    "                              transforms.Normalize((0.5,), (0.5,)),\n",
    "                                  torchvision.transforms.Lambda(lambda x: x.view(-1))\n",
    "                              ]))\n",
    "\n",
    "\n",
    "train_loader = t.utils.data.DataLoader(train_data, batch_size=batch_size, pin_memory=True )\n",
    "test_loader = t.utils.data.DataLoader(test_data, batch_size=batch_size)\n",
    "\n",
    "\n",
    "\n"
   ]
  },
  {
   "cell_type": "code",
   "execution_count": 32,
   "metadata": {},
   "outputs": [
    {
     "name": "stderr",
     "output_type": "stream",
     "text": [
      "epoch 0: 1.8958851: 100%|██████████| 235/235 [00:27<00:00,  8.63it/s]\n",
      "epoch 1: 0.5894883: 100%|██████████| 235/235 [00:27<00:00,  8.62it/s] \n",
      "epoch 2: 0.49396268: 100%|██████████| 235/235 [00:27<00:00,  8.62it/s]\n"
     ]
    },
    {
     "name": "stdout",
     "output_type": "stream",
     "text": [
      "{tensor(0.0100): 0.8929, tensor(0.1000): 0.8966, tensor(1.): 0.8897, tensor(10.): 0.8694, tensor(100.): 0.8387}\n"
     ]
    }
   ],
   "source": [
    "# предварительный подбор количества ядер\n",
    "\n",
    "importlib.reload(kernel_hypernet)\n",
    "kernel_num = 50\n",
    "t.manual_seed(0)\n",
    "\n",
    "                 \n",
    "net = var_net.VarNet(kernel_hypernet.VarKernelLayer(784,  hidden_num, kernel_num, prior_sigma=prior_sigma, init_log_sigma=init_log_sigma),\n",
    "             kernel_hypernet.VarKernelLayer(hidden_num, 10,   kernel_num, \n",
    "                                                prior_sigma=prior_sigma, act=lambda x:x, init_log_sigma=init_log_sigma))\n",
    "\n",
    "net = net.to(device)\n",
    "optim = t.optim.Adam(net.parameters(), lr=5e-4)\n",
    "loss_fn = nn.CrossEntropyLoss().to(device)            \n",
    "for e in range(3):\n",
    "    label = 'epoch {}: '.format(e)                \n",
    "    utils.train_batches_hypernet(train_loader,  len(train_data), lambda_sample_num,\n",
    "          lambda_encode, net, device, loss_fn, optim, label)\n",
    "\n",
    "print (utils.test_acc_hyper(net, device, test_loader, lambda_encode, lamb))\n",
    "\n",
    "#1: loss=5.05,acc=0.85/0.85/0.85/0.850+0.85\n",
    "#10: loss=0.58, acc=0.89/0.89/0.88/0.88/0.87\n",
    "# 20: loss=0.53\n",
    "# 15: loss=0.55\n",
    "# 5: loss=0.71, acc=0.87,0.88,0.87,0.87,0.87\n",
    "#7: loss=0.0.62, acc=...\n",
    "# возьмем 20"
   ]
  },
  {
   "cell_type": "code",
   "execution_count": 34,
   "metadata": {},
   "outputs": [
    {
     "name": "stderr",
     "output_type": "stream",
     "text": [
      "epoch 0: 2.069314: 100%|██████████| 235/235 [00:24<00:00,  9.67it/s] \n",
      "epoch 1: 0.89205515:   1%|          | 2/235 [00:00<00:20, 11.32it/s]"
     ]
    },
    {
     "name": "stdout",
     "output_type": "stream",
     "text": [
      "{tensor(0.0100): 0.7776, tensor(0.1000): 0.7901, tensor(1.): 0.7876, tensor(10.): 0.7989, tensor(100.): 0.7426}\n"
     ]
    },
    {
     "name": "stderr",
     "output_type": "stream",
     "text": [
      "epoch 1: 0.4836372: 100%|██████████| 235/235 [00:20<00:00, 11.25it/s] \n",
      "epoch 2: 0.3331598: 100%|██████████| 235/235 [00:20<00:00, 11.22it/s] \n",
      "epoch 3: 0.2961883: 100%|██████████| 235/235 [00:20<00:00, 11.24it/s] \n",
      "epoch 4: 0.27781105: 100%|██████████| 235/235 [00:20<00:00, 11.26it/s]\n",
      "epoch 5: 0.26865262: 100%|██████████| 235/235 [00:20<00:00, 11.21it/s]\n",
      "epoch 6: 0.23011677:   1%|          | 2/235 [00:00<00:20, 11.24it/s]"
     ]
    },
    {
     "name": "stdout",
     "output_type": "stream",
     "text": [
      "{tensor(0.0100): 0.9295, tensor(0.1000): 0.9342, tensor(1.): 0.927, tensor(10.): 0.9129, tensor(100.): 0.8575}\n"
     ]
    },
    {
     "name": "stderr",
     "output_type": "stream",
     "text": [
      "epoch 6: 0.27015343: 100%|██████████| 235/235 [00:21<00:00, 11.15it/s]\n",
      "epoch 7: 0.25466478: 100%|██████████| 235/235 [00:20<00:00, 11.23it/s]\n",
      "epoch 8: 0.2514477: 100%|██████████| 235/235 [00:20<00:00, 11.25it/s] \n",
      "epoch 9: 0.2521792: 100%|██████████| 235/235 [00:20<00:00, 11.26it/s] \n",
      "epoch 10: 0.24606834: 100%|██████████| 235/235 [00:20<00:00, 11.21it/s]\n",
      "epoch 11: 0.26519993:   1%|          | 2/235 [00:00<00:20, 11.20it/s]"
     ]
    },
    {
     "name": "stdout",
     "output_type": "stream",
     "text": [
      "{tensor(0.0100): 0.9498, tensor(0.1000): 0.9498, tensor(1.): 0.9451, tensor(10.): 0.9181, tensor(100.): 0.854}\n"
     ]
    },
    {
     "name": "stderr",
     "output_type": "stream",
     "text": [
      "epoch 11: 0.23146336: 100%|██████████| 235/235 [00:21<00:00, 11.03it/s]\n",
      "epoch 12: 0.2430944: 100%|██████████| 235/235 [00:21<00:00, 11.17it/s] \n",
      "epoch 13: 0.22210829: 100%|██████████| 235/235 [00:20<00:00, 11.24it/s]\n",
      "epoch 14: 0.23056792: 100%|██████████| 235/235 [00:21<00:00, 11.18it/s]\n",
      "epoch 15: 0.22032918: 100%|██████████| 235/235 [00:20<00:00, 11.22it/s]\n",
      "epoch 16: 0.17757899:   1%|          | 2/235 [00:00<00:20, 11.30it/s]"
     ]
    },
    {
     "name": "stdout",
     "output_type": "stream",
     "text": [
      "{tensor(0.0100): 0.9569, tensor(0.1000): 0.9565, tensor(1.): 0.9529, tensor(10.): 0.9264, tensor(100.): 0.853}\n"
     ]
    },
    {
     "name": "stderr",
     "output_type": "stream",
     "text": [
      "epoch 16: 0.2193196: 100%|██████████| 235/235 [00:22<00:00, 10.56it/s] \n",
      "epoch 17: 0.22186422: 100%|██████████| 235/235 [00:25<00:00,  9.07it/s]\n",
      "epoch 18: 0.21616009: 100%|██████████| 235/235 [00:21<00:00, 10.90it/s]\n",
      "epoch 19: 0.20728868: 100%|██████████| 235/235 [00:21<00:00, 11.19it/s]\n",
      "epoch 20: 0.2193109: 100%|██████████| 235/235 [00:21<00:00, 11.13it/s] \n",
      "epoch 21: 0.2542542:   0%|          | 1/235 [00:00<00:24,  9.63it/s] "
     ]
    },
    {
     "name": "stdout",
     "output_type": "stream",
     "text": [
      "{tensor(0.0100): 0.9633, tensor(0.1000): 0.9633, tensor(1.): 0.9583, tensor(10.): 0.9271, tensor(100.): 0.8548}\n"
     ]
    },
    {
     "name": "stderr",
     "output_type": "stream",
     "text": [
      "epoch 21: 0.22054246: 100%|██████████| 235/235 [00:26<00:00,  8.98it/s]\n",
      "epoch 22: 0.21470647: 100%|██████████| 235/235 [00:26<00:00,  8.98it/s]\n",
      "epoch 23: 0.21675192: 100%|██████████| 235/235 [00:26<00:00,  9.04it/s]\n",
      "epoch 24: 0.21434487: 100%|██████████| 235/235 [00:26<00:00,  8.71it/s]\n",
      "epoch 0: 2.033977: 100%|██████████| 235/235 [00:29<00:00,  7.89it/s] \n",
      "epoch 1: 0.47628814:   0%|          | 1/235 [00:00<00:31,  7.32it/s]"
     ]
    },
    {
     "name": "stdout",
     "output_type": "stream",
     "text": [
      "{tensor(0.0100): 0.7958, tensor(0.1000): 0.8136, tensor(1.): 0.8062, tensor(10.): 0.795, tensor(100.): 0.7843}\n"
     ]
    },
    {
     "name": "stderr",
     "output_type": "stream",
     "text": [
      "epoch 1: 0.44867176: 100%|██████████| 235/235 [00:34<00:00,  6.90it/s]\n",
      "epoch 2: 0.31751233: 100%|██████████| 235/235 [00:34<00:00,  6.74it/s]\n",
      "epoch 3: 0.29294822: 100%|██████████| 235/235 [00:35<00:00,  6.66it/s]\n",
      "epoch 4: 0.29184377: 100%|██████████| 235/235 [00:35<00:00,  6.67it/s]\n",
      "epoch 5: 0.26508328: 100%|██████████| 235/235 [00:34<00:00,  6.72it/s]\n",
      "epoch 6: 0.21355422:   0%|          | 1/235 [00:00<00:34,  6.78it/s]"
     ]
    },
    {
     "name": "stdout",
     "output_type": "stream",
     "text": [
      "{tensor(0.0100): 0.9305, tensor(0.1000): 0.9292, tensor(1.): 0.9277, tensor(10.): 0.9186, tensor(100.): 0.8607}\n"
     ]
    },
    {
     "name": "stderr",
     "output_type": "stream",
     "text": [
      "epoch 6: 0.26150867: 100%|██████████| 235/235 [00:35<00:00,  6.65it/s]\n",
      "epoch 7: 0.26528856: 100%|██████████| 235/235 [00:34<00:00,  6.88it/s]\n",
      "epoch 8: 0.2529448: 100%|██████████| 235/235 [00:31<00:00,  7.56it/s] \n",
      "epoch 9: 0.25624093: 100%|██████████| 235/235 [00:26<00:00,  8.96it/s]\n",
      "epoch 10: 0.24282894: 100%|██████████| 235/235 [00:26<00:00,  8.71it/s]\n",
      "epoch 11: 0.18923426:   0%|          | 1/235 [00:00<00:30,  7.58it/s]"
     ]
    },
    {
     "name": "stdout",
     "output_type": "stream",
     "text": [
      "{tensor(0.0100): 0.9437, tensor(0.1000): 0.9469, tensor(1.): 0.9434, tensor(10.): 0.928, tensor(100.): 0.8667}\n"
     ]
    },
    {
     "name": "stderr",
     "output_type": "stream",
     "text": [
      "epoch 11: 0.24247544: 100%|██████████| 235/235 [00:26<00:00,  9.00it/s]\n",
      "epoch 12: 0.24047883: 100%|██████████| 235/235 [00:32<00:00,  7.25it/s]\n",
      "epoch 13: 0.23868741: 100%|██████████| 235/235 [00:34<00:00,  6.89it/s]\n",
      "epoch 14: 0.22884859: 100%|██████████| 235/235 [00:34<00:00,  6.74it/s]\n",
      "epoch 15: 0.23365188: 100%|██████████| 235/235 [00:35<00:00,  6.64it/s]\n",
      "epoch 16: 0.10426048:   0%|          | 1/235 [00:00<00:37,  6.22it/s]"
     ]
    },
    {
     "name": "stdout",
     "output_type": "stream",
     "text": [
      "{tensor(0.0100): 0.9538, tensor(0.1000): 0.9549, tensor(1.): 0.9514, tensor(10.): 0.927, tensor(100.): 0.8593}\n"
     ]
    },
    {
     "name": "stderr",
     "output_type": "stream",
     "text": [
      "epoch 16: 0.21996865: 100%|██████████| 235/235 [00:32<00:00,  7.22it/s]\n",
      "epoch 17: 0.22070707: 100%|██████████| 235/235 [00:25<00:00,  9.30it/s]\n",
      "epoch 18: 0.21930093: 100%|██████████| 235/235 [00:34<00:00,  6.81it/s]\n",
      "epoch 19: 0.2089575: 100%|██████████| 235/235 [00:34<00:00,  6.78it/s] \n",
      "epoch 20: 0.22897607: 100%|██████████| 235/235 [00:35<00:00,  6.68it/s]\n",
      "epoch 21: 0.075201735:   0%|          | 1/235 [00:00<00:35,  6.57it/s]"
     ]
    },
    {
     "name": "stdout",
     "output_type": "stream",
     "text": [
      "{tensor(0.0100): 0.957, tensor(0.1000): 0.9596, tensor(1.): 0.9554, tensor(10.): 0.9274, tensor(100.): 0.8647}\n"
     ]
    },
    {
     "name": "stderr",
     "output_type": "stream",
     "text": [
      "epoch 21: 0.21818314: 100%|██████████| 235/235 [00:35<00:00,  6.68it/s]\n",
      "epoch 22: 0.21296394: 100%|██████████| 235/235 [00:34<00:00,  6.86it/s]\n",
      "epoch 23: 0.2042015: 100%|██████████| 235/235 [00:34<00:00,  6.75it/s] \n",
      "epoch 24: 0.21458195: 100%|██████████| 235/235 [00:34<00:00,  6.84it/s]\n",
      "epoch 0: 2.0089662: 100%|██████████| 235/235 [00:39<00:00,  5.93it/s]\n",
      "epoch 1: 0.9133566:   0%|          | 1/235 [00:00<00:41,  5.57it/s]"
     ]
    },
    {
     "name": "stdout",
     "output_type": "stream",
     "text": [
      "{tensor(0.0100): 0.7637, tensor(0.1000): 0.7624, tensor(1.): 0.7611, tensor(10.): 0.7585, tensor(100.): 0.7691}\n"
     ]
    },
    {
     "name": "stderr",
     "output_type": "stream",
     "text": [
      "epoch 1: 0.47222692: 100%|██████████| 235/235 [00:35<00:00,  6.59it/s]\n",
      "epoch 2: 0.32717928: 100%|██████████| 235/235 [00:33<00:00,  6.92it/s]\n",
      "epoch 3: 0.2951935: 100%|██████████| 235/235 [00:35<00:00,  6.60it/s] \n",
      "epoch 4: 0.28153303: 100%|██████████| 235/235 [00:33<00:00,  6.95it/s]\n",
      "epoch 5: 0.2671239: 100%|██████████| 235/235 [00:35<00:00,  6.54it/s] \n",
      "epoch 6: 0.38822874:   0%|          | 1/235 [00:00<00:33,  7.00it/s]"
     ]
    },
    {
     "name": "stdout",
     "output_type": "stream",
     "text": [
      "{tensor(0.0100): 0.9319, tensor(0.1000): 0.9298, tensor(1.): 0.9282, tensor(10.): 0.913, tensor(100.): 0.8803}\n"
     ]
    },
    {
     "name": "stderr",
     "output_type": "stream",
     "text": [
      "epoch 6: 0.27264345: 100%|██████████| 235/235 [00:35<00:00,  6.53it/s]\n",
      "epoch 7: 0.24567609: 100%|██████████| 235/235 [00:34<00:00,  6.83it/s]\n",
      "epoch 8: 0.2606506: 100%|██████████| 235/235 [00:35<00:00,  6.58it/s] \n",
      "epoch 9: 0.24638301: 100%|██████████| 235/235 [00:34<00:00,  6.74it/s]\n",
      "epoch 10: 0.24639194: 100%|██████████| 235/235 [00:33<00:00,  6.93it/s]\n",
      "epoch 11: 0.27171737:   0%|          | 1/235 [00:00<00:28,  8.18it/s]"
     ]
    },
    {
     "name": "stdout",
     "output_type": "stream",
     "text": [
      "{tensor(0.0100): 0.9445, tensor(0.1000): 0.9459, tensor(1.): 0.9423, tensor(10.): 0.9176, tensor(100.): 0.866}\n"
     ]
    },
    {
     "name": "stderr",
     "output_type": "stream",
     "text": [
      "epoch 11: 0.23525386: 100%|██████████| 235/235 [00:34<00:00,  6.84it/s]\n",
      "epoch 12: 0.23519583: 100%|██████████| 235/235 [00:35<00:00,  6.66it/s]\n",
      "epoch 13: 0.23113011: 100%|██████████| 235/235 [00:34<00:00,  6.88it/s]\n",
      "epoch 14: 0.23538624: 100%|██████████| 235/235 [00:35<00:00,  6.61it/s]\n",
      "epoch 15: 0.23136693: 100%|██████████| 235/235 [00:34<00:00,  6.74it/s]\n",
      "epoch 16: 0.17210963:   0%|          | 1/235 [00:00<00:24,  9.57it/s]"
     ]
    },
    {
     "name": "stdout",
     "output_type": "stream",
     "text": [
      "{tensor(0.0100): 0.9527, tensor(0.1000): 0.9551, tensor(1.): 0.9503, tensor(10.): 0.9247, tensor(100.): 0.865}\n"
     ]
    },
    {
     "name": "stderr",
     "output_type": "stream",
     "text": [
      "epoch 16: 0.22845025: 100%|██████████| 235/235 [00:34<00:00,  6.87it/s]\n",
      "epoch 17: 0.23714109: 100%|██████████| 235/235 [00:34<00:00,  6.76it/s]\n",
      "epoch 18: 0.22752634: 100%|██████████| 235/235 [00:35<00:00,  6.65it/s]\n",
      "epoch 19: 0.21940212: 100%|██████████| 235/235 [00:34<00:00,  6.82it/s]\n",
      "epoch 20: 0.21744281: 100%|██████████| 235/235 [00:33<00:00,  7.00it/s]\n",
      "epoch 21: 0.1302125:   0%|          | 1/235 [00:00<00:32,  7.11it/s]"
     ]
    },
    {
     "name": "stdout",
     "output_type": "stream",
     "text": [
      "{tensor(0.0100): 0.9591, tensor(0.1000): 0.96, tensor(1.): 0.9587, tensor(10.): 0.9247, tensor(100.): 0.864}\n"
     ]
    },
    {
     "name": "stderr",
     "output_type": "stream",
     "text": [
      "epoch 21: 0.22338447: 100%|██████████| 235/235 [00:35<00:00,  6.58it/s]\n",
      "epoch 22: 0.22208527: 100%|██████████| 235/235 [00:34<00:00,  6.77it/s]\n",
      "epoch 23: 0.21620022: 100%|██████████| 235/235 [00:33<00:00,  6.96it/s]\n",
      "epoch 24: 0.22099341: 100%|██████████| 235/235 [00:35<00:00,  6.67it/s]\n",
      "epoch 0: 2.0274465: 100%|██████████| 235/235 [00:38<00:00,  6.09it/s]\n",
      "epoch 1: 0.52348775:   0%|          | 0/235 [00:00<?, ?it/s]"
     ]
    },
    {
     "name": "stdout",
     "output_type": "stream",
     "text": [
      "{tensor(0.0100): 0.7875, tensor(0.1000): 0.7746, tensor(1.): 0.7626, tensor(10.): 0.7427, tensor(100.): 0.7491}\n"
     ]
    },
    {
     "name": "stderr",
     "output_type": "stream",
     "text": [
      "epoch 1: 0.47620642: 100%|██████████| 235/235 [00:34<00:00,  6.87it/s]\n",
      "epoch 2: 0.32886: 100%|██████████| 235/235 [00:35<00:00,  6.69it/s]   \n",
      "epoch 3: 0.30270347: 100%|██████████| 235/235 [00:34<00:00,  6.77it/s]\n",
      "epoch 4: 0.28054157: 100%|██████████| 235/235 [00:33<00:00,  6.94it/s]\n",
      "epoch 5: 0.27039203: 100%|██████████| 235/235 [00:34<00:00,  6.82it/s]\n",
      "epoch 6: 0.22031486:   0%|          | 0/235 [00:00<?, ?it/s]"
     ]
    },
    {
     "name": "stdout",
     "output_type": "stream",
     "text": [
      "{tensor(0.0100): 0.9321, tensor(0.1000): 0.9339, tensor(1.): 0.9283, tensor(10.): 0.9085, tensor(100.): 0.8601}\n"
     ]
    },
    {
     "name": "stderr",
     "output_type": "stream",
     "text": [
      "epoch 6: 0.26845628: 100%|██████████| 235/235 [00:35<00:00,  6.70it/s]\n",
      "epoch 7: 0.26974574: 100%|██████████| 235/235 [00:33<00:00,  6.95it/s]\n",
      "epoch 8: 0.25656238: 100%|██████████| 235/235 [00:35<00:00,  6.59it/s]\n",
      "epoch 9: 0.2480727: 100%|██████████| 235/235 [00:34<00:00,  6.73it/s] \n",
      "epoch 10: 0.2425767: 100%|██████████| 235/235 [00:33<00:00,  7.03it/s] \n",
      "epoch 11: 0.3177824:   0%|          | 1/235 [00:00<00:35,  6.64it/s]"
     ]
    },
    {
     "name": "stdout",
     "output_type": "stream",
     "text": [
      "{tensor(0.0100): 0.9462, tensor(0.1000): 0.9483, tensor(1.): 0.9445, tensor(10.): 0.923, tensor(100.): 0.8625}\n"
     ]
    },
    {
     "name": "stderr",
     "output_type": "stream",
     "text": [
      "epoch 11: 0.24743009: 100%|██████████| 235/235 [00:35<00:00,  6.65it/s]\n",
      "epoch 12: 0.23181607: 100%|██████████| 235/235 [00:35<00:00,  6.71it/s]\n",
      "epoch 13: 0.2393177: 100%|██████████| 235/235 [00:35<00:00,  6.65it/s] \n",
      "epoch 14: 0.22766544: 100%|██████████| 235/235 [00:33<00:00,  6.94it/s]\n",
      "epoch 15: 0.22190788: 100%|██████████| 235/235 [00:35<00:00,  6.67it/s]\n",
      "epoch 16: 0.1661856:   0%|          | 1/235 [00:00<00:29,  7.96it/s]"
     ]
    },
    {
     "name": "stdout",
     "output_type": "stream",
     "text": [
      "{tensor(0.0100): 0.9572, tensor(0.1000): 0.9567, tensor(1.): 0.95, tensor(10.): 0.9239, tensor(100.): 0.853}\n"
     ]
    },
    {
     "name": "stderr",
     "output_type": "stream",
     "text": [
      "epoch 16: 0.22614819: 100%|██████████| 235/235 [00:34<00:00,  6.79it/s]\n",
      "epoch 17: 0.2466318: 100%|██████████| 235/235 [00:34<00:00,  6.85it/s] \n",
      "epoch 18: 0.22414821: 100%|██████████| 235/235 [00:34<00:00,  6.75it/s]\n",
      "epoch 19: 0.2220411: 100%|██████████| 235/235 [00:35<00:00,  6.60it/s] \n",
      "epoch 20: 0.22447808: 100%|██████████| 235/235 [00:33<00:00,  7.04it/s]\n",
      "epoch 21: 0.09781742:   0%|          | 1/235 [00:00<00:32,  7.09it/s]"
     ]
    },
    {
     "name": "stdout",
     "output_type": "stream",
     "text": [
      "{tensor(0.0100): 0.957, tensor(0.1000): 0.9579, tensor(1.): 0.9544, tensor(10.): 0.9228, tensor(100.): 0.8437}\n"
     ]
    },
    {
     "name": "stderr",
     "output_type": "stream",
     "text": [
      "epoch 21: 0.21079217: 100%|██████████| 235/235 [00:34<00:00,  6.85it/s]\n",
      "epoch 22: 0.21147153: 100%|██████████| 235/235 [00:35<00:00,  6.60it/s]\n",
      "epoch 23: 0.21326244: 100%|██████████| 235/235 [00:33<00:00,  6.95it/s]\n",
      "epoch 24: 0.20422742: 100%|██████████| 235/235 [00:34<00:00,  6.76it/s]\n",
      "epoch 0: 2.136519: 100%|██████████| 235/235 [00:38<00:00,  6.05it/s] \n",
      "epoch 1: 0.8454237:   0%|          | 1/235 [00:00<00:31,  7.52it/s]"
     ]
    },
    {
     "name": "stdout",
     "output_type": "stream",
     "text": [
      "{tensor(0.0100): 0.8081, tensor(0.1000): 0.7903, tensor(1.): 0.7755, tensor(10.): 0.7677, tensor(100.): 0.7761}\n"
     ]
    },
    {
     "name": "stderr",
     "output_type": "stream",
     "text": [
      "epoch 1: 0.49735975: 100%|██████████| 235/235 [00:34<00:00,  6.72it/s]\n",
      "epoch 2: 0.33979: 100%|██████████| 235/235 [00:34<00:00,  6.72it/s]   \n",
      "epoch 3: 0.31187603: 100%|██████████| 235/235 [00:36<00:00,  6.42it/s]\n",
      "epoch 4: 0.28888437: 100%|██████████| 235/235 [00:34<00:00,  6.80it/s]\n",
      "epoch 5: 0.28616998: 100%|██████████| 235/235 [00:33<00:00,  6.98it/s]\n",
      "epoch 6: 0.17481422:   0%|          | 1/235 [00:00<00:33,  7.09it/s]"
     ]
    },
    {
     "name": "stdout",
     "output_type": "stream",
     "text": [
      "{tensor(0.0100): 0.9322, tensor(0.1000): 0.9306, tensor(1.): 0.9255, tensor(10.): 0.9104, tensor(100.): 0.8727}\n"
     ]
    },
    {
     "name": "stderr",
     "output_type": "stream",
     "text": [
      "epoch 6: 0.26991716: 100%|██████████| 235/235 [00:35<00:00,  6.71it/s]\n",
      "epoch 7: 0.25995022: 100%|██████████| 235/235 [00:34<00:00,  6.88it/s]\n",
      "epoch 8: 0.25032154: 100%|██████████| 235/235 [00:33<00:00,  6.98it/s]\n",
      "epoch 9: 0.2563941: 100%|██████████| 235/235 [00:35<00:00,  6.68it/s] \n",
      "epoch 10: 0.24666701: 100%|██████████| 235/235 [00:34<00:00,  6.76it/s]\n",
      "epoch 11: 0.3582696:   0%|          | 1/235 [00:00<00:28,  8.14it/s]"
     ]
    },
    {
     "name": "stdout",
     "output_type": "stream",
     "text": [
      "{tensor(0.0100): 0.9486, tensor(0.1000): 0.949, tensor(1.): 0.9384, tensor(10.): 0.9163, tensor(100.): 0.8696}\n"
     ]
    },
    {
     "name": "stderr",
     "output_type": "stream",
     "text": [
      "epoch 11: 0.2533017: 100%|██████████| 235/235 [00:34<00:00,  6.81it/s] \n",
      "epoch 12: 0.24763916: 100%|██████████| 235/235 [00:34<00:00,  6.72it/s]\n",
      "epoch 13: 0.23499976: 100%|██████████| 235/235 [00:35<00:00,  6.71it/s]\n",
      "epoch 14: 0.23688394: 100%|██████████| 235/235 [00:34<00:00,  6.81it/s]\n",
      "epoch 15: 0.24107318: 100%|██████████| 235/235 [00:35<00:00,  6.71it/s]\n",
      "epoch 16: 0.27677995:   0%|          | 1/235 [00:00<00:28,  8.30it/s]"
     ]
    },
    {
     "name": "stdout",
     "output_type": "stream",
     "text": [
      "{tensor(0.0100): 0.9526, tensor(0.1000): 0.9547, tensor(1.): 0.9484, tensor(10.): 0.9189, tensor(100.): 0.8525}\n"
     ]
    },
    {
     "name": "stderr",
     "output_type": "stream",
     "text": [
      "epoch 16: 0.22696528: 100%|██████████| 235/235 [00:34<00:00,  6.83it/s]\n",
      "epoch 17: 0.22961307: 100%|██████████| 235/235 [00:28<00:00,  8.20it/s]\n",
      "epoch 18: 0.21936697: 100%|██████████| 235/235 [00:31<00:00,  7.36it/s]\n",
      "epoch 19: 0.22114468: 100%|██████████| 235/235 [00:31<00:00,  7.38it/s]\n",
      "epoch 20: 0.22211082: 100%|██████████| 235/235 [00:32<00:00,  7.24it/s]\n",
      "epoch 21: 0.22933495:   0%|          | 1/235 [00:00<00:26,  8.84it/s]"
     ]
    },
    {
     "name": "stdout",
     "output_type": "stream",
     "text": [
      "{tensor(0.0100): 0.9591, tensor(0.1000): 0.9589, tensor(1.): 0.9531, tensor(10.): 0.9238, tensor(100.): 0.8589}\n"
     ]
    },
    {
     "name": "stderr",
     "output_type": "stream",
     "text": [
      "epoch 21: 0.22685894: 100%|██████████| 235/235 [00:31<00:00,  7.44it/s]\n",
      "epoch 22: 0.2147477: 100%|██████████| 235/235 [00:31<00:00,  7.37it/s] \n",
      "epoch 23: 0.22375908: 100%|██████████| 235/235 [00:32<00:00,  7.32it/s]\n",
      "epoch 24: 0.2158239: 100%|██████████| 235/235 [00:31<00:00,  7.49it/s] \n"
     ]
    }
   ],
   "source": [
    "t.manual_seed(0)\n",
    "kernel_num = 20\n",
    "for start in range(start_num):                    \n",
    "        net = var_net.VarNet(kernel_hypernet.VarKernelLayer(784,  hidden_num, kernel_num, prior_sigma=prior_sigma, init_log_sigma=init_log_sigma),\n",
    "             kernel_hypernet.VarKernelLayer(hidden_num, 10,   kernel_num, \n",
    "                                                prior_sigma=prior_sigma, act=lambda x:x, init_log_sigma=init_log_sigma))\n",
    "\n",
    "        net = net.to(device)\n",
    "        optim = t.optim.Adam(net.parameters(), lr=5e-4)\n",
    "        loss_fn = nn.CrossEntropyLoss().to(device)            \n",
    "        for e in range(epoch_num):\n",
    "            label = 'epoch {}: '.format(e)                \n",
    "            utils.train_batches_hypernet(train_loader,  len(train_data), lambda_sample_num,\n",
    "                  lambda_encode, net, device, loss_fn, optim, label)\n",
    "            if e%5 == 0:\n",
    "                print (utils.test_acc_hyper(net, device, test_loader, lambda_encode, lamb))\n",
    "        t.save(net.state_dict(), os.path.join(path_to_save, 'var_kernel_start_{}.cpk'.format(start)))"
   ]
  },
  {
   "cell_type": "code",
   "execution_count": 35,
   "metadata": {},
   "outputs": [
    {
     "name": "stderr",
     "output_type": "stream",
     "text": [
      "../src/var_net.py:9: UserWarning: nn.init.xavier_uniform is now deprecated in favor of nn.init.xavier_uniform_.\n",
      "  t.nn.init.xavier_uniform(self.mean)\n"
     ]
    },
    {
     "name": "stdout",
     "output_type": "stream",
     "text": [
      "tensor(0.0100) 0\n",
      "tensor(0.0100) 1\n",
      "tensor(0.0100) 2\n",
      "tensor(0.0100) 3\n",
      "tensor(0.0100) 4\n",
      "tensor(0.1000) 0\n",
      "tensor(0.1000) 1\n",
      "tensor(0.1000) 2\n",
      "tensor(0.1000) 3\n",
      "tensor(0.1000) 4\n",
      "tensor(1.) 0\n",
      "tensor(1.) 1\n",
      "tensor(1.) 2\n",
      "tensor(1.) 3\n",
      "tensor(1.) 4\n",
      "tensor(10.) 0\n",
      "tensor(10.) 1\n",
      "tensor(10.) 2\n",
      "tensor(10.) 3\n",
      "tensor(10.) 4\n",
      "tensor(100.) 0\n",
      "tensor(100.) 1\n",
      "tensor(100.) 2\n",
      "tensor(100.) 3\n",
      "tensor(100.) 4\n"
     ]
    }
   ],
   "source": [
    "net = var_net.VarNet(var_net.VarLayer(784,  hidden_num, \n",
    "                                            prior_sigma = prior_sigma, init_log_sigma=init_log_sigma), \n",
    "                                 var_net.VarLayer(hidden_num, 10, prior_sigma=prior_sigma,  init_log_sigma=init_log_sigma,\n",
    "                                          act=lambda x:x)).to(device)    \n",
    "hnet =  var_net.VarNet(kernel_hypernet.VarKernelLayer(784,  hidden_num, kernel_num, prior_sigma=prior_sigma, init_log_sigma=init_log_sigma),\n",
    "             kernel_hypernet.VarKernelLayer(hidden_num, 10,   kernel_num, \n",
    "                                                prior_sigma=prior_sigma, act=lambda x:x, init_log_sigma=init_log_sigma))\n",
    "\n",
    "hnet = hnet.to(device)\n",
    "net = net.to(device)\n",
    "lam_results = {}\n",
    "for lam in lamb:\n",
    "    lam_results[lam] = []\n",
    "    for s in range(start_num):        \n",
    "        print (lam, s)\n",
    "        hnet.load_state_dict(t.load(os.path.join(path_to_save, 'var_kernel_start_{}.cpk'.format(s))))        \n",
    "        utils.net_copy(hnet, net, lambda_encode(t.ones(1).to(device)[0]*lam))\n",
    "        lam_results[lam].append(utils.delete_10(net, device, lambda:utils.test_acc_net(net, device, test_loader)))\n",
    "lam_results = {float(k):lam_results[k] for k in lam_results}\n",
    "import json\n",
    "with open(os.path.join(path_to_save, 'results_var_kernel.json'),'w') as out:\n",
    "    out.write(json.dumps(lam_results))  "
   ]
  },
  {
   "cell_type": "code",
   "execution_count": 36,
   "metadata": {},
   "outputs": [
    {
     "data": {
      "image/png": "[encoded data removed]",
      "text/plain": [
       "<Figure size 864x864 with 1 Axes>"
      ]
     },
     "metadata": {
      "needs_background": "light"
     },
     "output_type": "display_data"
    }
   ],
   "source": [
    "proc = [0,10,20,30,40,50,60,70,80,90]\n",
    "plt.rcParams['figure.figsize'] = 12, 12\n",
    "plt.rcParams.update({'font.size': 27})\n",
    "plt.rc('lines', linewidth=4)\n",
    "    \n",
    "    \n",
    "for lam in lamb:\n",
    "    lam = float(lam)\n",
    "    lam_str = \"{:10.2f}\".format(lam)\n",
    "\n",
    "    plt.fill_between(proc, np.min(lam_results[lam], 0), np.max(lam_results[lam], 0), alpha=0.2)\n",
    "    plt.plot(proc, np.mean(lam_results[lam], 0), label='$\\lambda={}$'.format(lam_str))\n",
    "plt.ylabel('Точность классификации', fontsize = 27)\n",
    "plt.xlabel('Процент удаления', fontsize = 27)\n",
    "plt.tick_params(axis='both', which='major', labelsize=27)\n",
    "plt.legend(loc='lower left')\n",
    "plt.autoscale(enable=True, axis='x', tight=True)\n",
    "plt.savefig('Kernel_var')\n",
    "#plt.show()\n"
   ]
  }
 ],
 "metadata": {
  "kernelspec": {
   "display_name": "Python 3",
   "language": "python",
   "name": "python3"
  },
  "language_info": {
   "codemirror_mode": {
    "name": "ipython",
    "version": 3
   },
   "file_extension": ".py",
   "mimetype": "text/x-python",
   "name": "python",
   "nbconvert_exporter": "python",
   "pygments_lexer": "ipython3",
   "version": "3.7.3"
  }
 },
 "nbformat": 4,
 "nbformat_minor": 2
}
