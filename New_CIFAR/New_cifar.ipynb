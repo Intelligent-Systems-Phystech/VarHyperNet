{
 "cells": [
  {
   "cell_type": "code",
   "execution_count": 1,
   "metadata": {},
   "outputs": [],
   "source": [
    "import torch as t \n",
    "import torchvision\n",
    "import numpy as np\n",
    "import torch.nn as nn\n",
    "import torch.nn.functional as F\n",
    "import torch.optim as optim\n",
    "import matplotlib.pylab as plt\n",
    "from torch.nn.utils import clip_grad_value_\n",
    "%matplotlib inline\n",
    "import pickle\n",
    "from torchvision import datasets, transforms\n",
    "import tqdm\n",
    "import os\n",
    "from VarConv import VarConvNet"
   ]
  },
  {
   "cell_type": "code",
   "execution_count": 2,
   "metadata": {},
   "outputs": [],
   "source": [
    "epoch_num = 50\n",
    "batch_size = 128\n",
    "learning_rate = 0.001\n",
    "num_workers = 4\n",
    "start_num = 1\n",
    "lambda_sample_num = 5\n",
    "path_to_save = 'saved_cifar_new'\n",
    "init_log_sigma = -5.0 # логарифм дисперсии вариационного распределения при инициализации\n",
    "prior_sigma = 1.0\n",
    "lambda_encode = t.log\n",
    "\n",
    "    \n",
    "if not os.path.exists(path_to_save):\n",
    "    os.mkdir(path_to_save)"
   ]
  },
  {
   "cell_type": "code",
   "execution_count": 3,
   "metadata": {},
   "outputs": [],
   "source": [
    "device = 'cuda' # cuda or cpu\n",
    "device = t.device(device)\n",
    "if device == 'cuda':\n",
    "    t.backends.cudnn.deterministic = True\n",
    "    t.backends.cudnn.benchmark = False"
   ]
  },
  {
   "cell_type": "code",
   "execution_count": 4,
   "metadata": {},
   "outputs": [
    {
     "name": "stdout",
     "output_type": "stream",
     "text": [
      "Files already downloaded and verified\n",
      "Files already downloaded and verified\n"
     ]
    }
   ],
   "source": [
    "transform_train = transforms.Compose([\n",
    "    transforms.RandomCrop(32, padding=4),\n",
    "    transforms.RandomHorizontalFlip(),\n",
    "    transforms.ToTensor(),\n",
    "    transforms.Normalize((0.4914, 0.4822, 0.4465), (0.2023, 0.1994, 0.2010)),\n",
    "])\n",
    "\n",
    "transform_test = transforms.Compose([\n",
    "    transforms.ToTensor(),\n",
    "    transforms.Normalize((0.4914, 0.4822, 0.4465), (0.2023, 0.1994, 0.2010)),\n",
    "])\n",
    "\n",
    "cifar_trainset = datasets.CIFAR10(root='./data', train=True, download=True, transform=transform_train)\n",
    "train_loader = t.utils.data.DataLoader(cifar_trainset, batch_size=batch_size,shuffle=True, num_workers=num_workers)\n",
    "\n",
    "cifar_testset = datasets.CIFAR10(root='./data', train=False, download=True, transform=transform_test)\n",
    "test_loader = t.utils.data.DataLoader(cifar_testset, batch_size=batch_size, shuffle=False, num_workers=num_workers)"
   ]
  },
  {
   "cell_type": "code",
   "execution_count": 5,
   "metadata": {},
   "outputs": [],
   "source": [
    "def test_acc(net): # точность классификации\n",
    "    acc = []    \n",
    "    net.eval()\n",
    "    lamb =  [0.01, 0.1, 1,  10, 100]\n",
    "    for l in lamb:\n",
    "        correct = 0\n",
    "        for x,y in test_loader: \n",
    "            x = x.to(device)\n",
    "            y = y.to(device)  \n",
    "            out = net(x,l)    \n",
    "            correct += out.argmax(1).eq(y).sum().cpu().numpy()\n",
    "        acc.append(correct / len(cifar_testset))\n",
    "    net.train()\n",
    "    return acc"
   ]
  },
  {
   "cell_type": "code",
   "execution_count": 6,
   "metadata": {},
   "outputs": [],
   "source": [
    "def train_batches(net, loss_fn, optimizer, lam, label):\n",
    "    tq = tqdm.tqdm(train_loader)\n",
    "    losses = []\n",
    "    for x,y in tq:            \n",
    "        x = x.to(device)\n",
    "        y = y.to(device)          \n",
    "        optimizer.zero_grad()  \n",
    "        loss = 0\n",
    "        if lam is None:\n",
    "            \n",
    "            for _ in range(lambda_sample_num):  \n",
    "                p = t.rand(1).to(device)*4 -2\n",
    "                lam_param = 10**p[0]                \n",
    "                #t.rand(1).to(device)[0]*100.0                  \n",
    "                out = net(x, lambda_encode(lam_param))\n",
    "                loss = loss + loss_fn(out, y)/lambda_sample_num\n",
    "                loss += net.KLD(lambda_encode(lam_param))*lam_param/len(cifar_trainset)/lambda_sample_num\n",
    "                #loss += net.KLD(lam_param)*t.log(lam_param)/len(trainset)/lambda_sample_num\n",
    "                losses+=[loss.cpu().detach().numpy()]       \n",
    "        tq.set_description(label+str(np.mean(losses)))\n",
    "        loss.backward()       \n",
    "        clip_grad_value_(net.parameters(), 1.0) # для стабильности градиента. С этим можно играться\n",
    "        optimizer.step()\n",
    "        \n",
    "        #lr_scheduler.step()\n",
    "    acc = test_acc(net)\n",
    "    print (acc)\n",
    "    return acc"
   ]
  },
  {
   "cell_type": "code",
   "execution_count": null,
   "metadata": {},
   "outputs": [
    {
     "name": "stderr",
     "output_type": "stream",
     "text": [
      "CIFAR, epoch 0: 14274552000.0: 100%|██████████| 391/391 [02:42<00:00,  2.40it/s]\n"
     ]
    },
    {
     "name": "stdout",
     "output_type": "stream",
     "text": [
      "[0.1, 0.1, 0.1, 0.1, 0.1]\n"
     ]
    },
    {
     "name": "stderr",
     "output_type": "stream",
     "text": [
      "CIFAR, epoch 1: 543.8427: 100%|██████████| 391/391 [02:42<00:00,  2.40it/s] \n"
     ]
    },
    {
     "name": "stdout",
     "output_type": "stream",
     "text": [
      "[0.1, 0.1, 0.1, 0.1, 0.1]\n"
     ]
    },
    {
     "name": "stderr",
     "output_type": "stream",
     "text": [
      "CIFAR, epoch 2: 858.6892: 100%|██████████| 391/391 [02:41<00:00,  2.42it/s]  \n",
      "  0%|          | 0/391 [00:00<?, ?it/s]"
     ]
    },
    {
     "name": "stdout",
     "output_type": "stream",
     "text": [
      "[0.1, 0.1, 0.1, 0.1, 0.1]\n"
     ]
    },
    {
     "name": "stderr",
     "output_type": "stream",
     "text": [
      "CIFAR, epoch 3: 1647.1409: 100%|██████████| 391/391 [02:46<00:00,  2.35it/s]\n",
      "  0%|          | 0/391 [00:00<?, ?it/s]"
     ]
    },
    {
     "name": "stdout",
     "output_type": "stream",
     "text": [
      "[0.1, 0.1, 0.1, 0.1, 0.1]\n"
     ]
    },
    {
     "name": "stderr",
     "output_type": "stream",
     "text": [
      "CIFAR, epoch 4: 130793416.0: 100%|██████████| 391/391 [02:49<00:00,  2.31it/s]\n",
      "  0%|          | 0/391 [00:00<?, ?it/s]"
     ]
    },
    {
     "name": "stdout",
     "output_type": "stream",
     "text": [
      "[0.1, 0.1, 0.1, 0.1, 0.1]\n"
     ]
    },
    {
     "name": "stderr",
     "output_type": "stream",
     "text": [
      "CIFAR, epoch 5: 1068642.1: 100%|██████████| 391/391 [02:45<00:00,  2.36it/s]\n",
      "  0%|          | 0/391 [00:00<?, ?it/s]"
     ]
    },
    {
     "name": "stdout",
     "output_type": "stream",
     "text": [
      "[0.1, 0.1, 0.0997, 0.0995, 0.0995]\n"
     ]
    },
    {
     "name": "stderr",
     "output_type": "stream",
     "text": [
      "CIFAR, epoch 6: 2596475100.0: 100%|██████████| 391/391 [02:43<00:00,  2.39it/s] \n",
      "  0%|          | 0/391 [00:00<?, ?it/s]"
     ]
    },
    {
     "name": "stdout",
     "output_type": "stream",
     "text": [
      "[0.1, 0.1, 0.1, 0.1, 0.1]\n"
     ]
    },
    {
     "name": "stderr",
     "output_type": "stream",
     "text": [
      "CIFAR, epoch 7: 93436530.0: 100%|██████████| 391/391 [02:43<00:00,  2.40it/s] \n",
      "  0%|          | 0/391 [00:00<?, ?it/s]"
     ]
    },
    {
     "name": "stdout",
     "output_type": "stream",
     "text": [
      "[0.1, 0.1, 0.1, 0.1, 0.1]\n"
     ]
    },
    {
     "name": "stderr",
     "output_type": "stream",
     "text": [
      "CIFAR, epoch 8: 710451.5: 100%|██████████| 391/391 [02:42<00:00,  2.40it/s] \n"
     ]
    },
    {
     "name": "stdout",
     "output_type": "stream",
     "text": [
      "[0.1, 0.1, 0.1, 0.1, 0.1]\n"
     ]
    },
    {
     "name": "stderr",
     "output_type": "stream",
     "text": [
      "CIFAR, epoch 9: 170800910.0:  80%|████████  | 313/391 [02:12<00:32,  2.39it/s]"
     ]
    }
   ],
   "source": [
    "t.manual_seed(0)\n",
    "for start in range(start_num): \n",
    "    net = VarConvNet(init_log_sigma, prior_sigma)\n",
    "    net.to(device)\n",
    "    optim = t.optim.Adam(net.parameters(), lr=0.001)\n",
    "    #lr_scheduler = torch.optim.lr_scheduler.MultiStepLR(optimizer=optimizer, milestones=milestones, gamma=0.5)\n",
    "    loss_fn = nn.CrossEntropyLoss().to(device) \n",
    "    for e in range(epoch_num):\n",
    "        label = 'CIFAR, epoch {}: '.format(e)                \n",
    "        acc = train_batches(net, loss_fn, optim, None, label)\n",
    "        with open('acc.log', 'a') as out:\n",
    "            out.write('{}:{}\\n'.format(e, acc))\n",
    "        t.save(net.state_dict(), os.path.join(path_to_save, 'cifar_epoch_{}.cpk'.format( e)))\n",
    "    t.save(net.state_dict(), os.path.join(path_to_save, 'cifar_start_{}.cpk'.format( start)))"
   ]
  },
  {
   "cell_type": "code",
   "execution_count": null,
   "metadata": {},
   "outputs": [],
   "source": []
  }
 ],
 "metadata": {
  "kernelspec": {
   "display_name": "Python 3",
   "language": "python",
   "name": "python3"
  },
  "language_info": {
   "codemirror_mode": {
    "name": "ipython",
    "version": 3
   },
   "file_extension": ".py",
   "mimetype": "text/x-python",
   "name": "python",
   "nbconvert_exporter": "python",
   "pygments_lexer": "ipython3",
   "version": "3.6.9"
  }
 },
 "nbformat": 4,
 "nbformat_minor": 4
}
